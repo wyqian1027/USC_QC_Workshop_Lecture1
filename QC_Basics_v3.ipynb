{
 "cells": [
  {
   "cell_type": "markdown",
   "id": "30e6348d-5f2a-4b74-8ba5-95bd7f176aa0",
   "metadata": {
    "id": "30e6348d-5f2a-4b74-8ba5-95bd7f176aa0"
   },
   "source": [
    "# L1. Quantum Computing Basics"
   ]
  },
  {
   "cell_type": "markdown",
   "id": "b87be0d0-ec72-486f-b717-2702cd9fe1c5",
   "metadata": {
    "id": "b87be0d0-ec72-486f-b717-2702cd9fe1c5"
   },
   "source": [
    "Meijian Li [meijian.li@usc.es] Feb, 2025\n"
   ]
  },
  {
   "cell_type": "code",
   "execution_count": null,
   "id": "c3c7c92c-7421-4f2b-a475-e35d27515a11",
   "metadata": {
    "id": "c3c7c92c-7421-4f2b-a475-e35d27515a11",
    "tags": []
   },
   "outputs": [],
   "source": [
    "from qiskit import QuantumCircuit\n",
    "from qiskit.quantum_info import Pauli, SparsePauliOp, Statevector\n",
    "from qiskit.transpiler.preset_passmanagers import generate_preset_pass_manager\n",
    "from qiskit.visualization import plot_bloch_multivector, plot_histogram, plot_circuit_layout\n",
    "from math import pi\n",
    "\n",
    "from qiskit.primitives import StatevectorSampler, StatevectorEstimator\n",
    "\n",
    "from IPython.display import display, Latex\n",
    "import matplotlib.pyplot as plt\n",
    "\n",
    "from qiskit.circuit.library import QFT"
   ]
  },
  {
   "cell_type": "markdown",
   "id": "51635b53-e1d4-4815-a252-0306621b5013",
   "metadata": {
    "id": "51635b53-e1d4-4815-a252-0306621b5013",
    "tags": []
   },
   "source": [
    "## 0. Hello World in Qiskit\n",
    "The code in the followin cell contains a simple example to construct and draw a quantum circuit with Qiskit."
   ]
  },
  {
   "cell_type": "code",
   "execution_count": null,
   "id": "874044a7-373d-45b7-8cdd-9ad0b6196707",
   "metadata": {
    "id": "874044a7-373d-45b7-8cdd-9ad0b6196707",
    "tags": []
   },
   "outputs": [],
   "source": [
    "# Create a new circuit with two qubits\n",
    "qc0 = QuantumCircuit(2)\n",
    "\n",
    "# Add a Hadamard gate to qubit 0\n",
    "qc0.h(0)\n",
    "\n",
    "# Perform a controlled-X gate on qubit 1, controlled by qubit 0\n",
    "qc0.cx(0, 1)\n",
    "\n",
    "# map qubits to classical bits\n",
    "qc0.measure_all()\n",
    "\n",
    "# Return a drawing of the circuit using MatPlotLib (\"mpl\"). This is the\n",
    "# last line of the cell, so the drawing appears in the cell output.\n",
    "# Remove the \"mpl\" argument to get a text drawing.\n",
    "qc0.draw(\"mpl\")"
   ]
  },
  {
   "cell_type": "markdown",
   "id": "44b828bb-f53c-4ce5-b980-dd0467096a05",
   "metadata": {
    "id": "44b828bb-f53c-4ce5-b980-dd0467096a05",
    "tags": []
   },
   "source": [
    "## 1. Quantum Circuit\n",
    "Quantum circuits are models for quantum computation in which a computation is a sequence of quantum gates.\n",
    "Quantum gates often represent rotations on the Bloch sphere. Let's start with quantum gates.\n"
   ]
  },
  {
   "cell_type": "markdown",
   "id": "cc6fa926-8dcd-4ea8-90c2-80602940d6ac",
   "metadata": {
    "id": "cc6fa926-8dcd-4ea8-90c2-80602940d6ac"
   },
   "source": [
    "### 1.1 Quantum state"
   ]
  },
  {
   "cell_type": "markdown",
   "id": "8b251b24-1339-4ef9-95be-6ea966057b0b",
   "metadata": {
    "id": "8b251b24-1339-4ef9-95be-6ea966057b0b"
   },
   "source": [
    "#### 1.1.1 Single-qubit state\n",
    "A single qubit state can be represented by a column vector in 2 dimension:\n",
    "\n",
    "$\\lvert\\psi\\rangle = \\begin{pmatrix}\n",
    "\\alpha \\\\\n",
    "\\beta \\\\\n",
    "\\end{pmatrix}$\n",
    "\n",
    "It is parametrized by two complex numbers $\\alpha$ and $\\beta$ satisfying $|\\alpha|^2 + |\\beta|^2=1$.\n",
    "\n",
    "There are infinite many ways to define the basis states, and one natural option is:\n",
    "\n",
    "$\\lvert0\\rangle = \\begin{pmatrix}\n",
    "1 \\\\\n",
    "0 \\\\\n",
    "\\end{pmatrix}\\;,\n",
    "\\quad\n",
    "\\lvert1\\rangle = \\begin{pmatrix}\n",
    "0 \\\\\n",
    "1 \\\\\n",
    "\\end{pmatrix}\\;.\n",
    "$"
   ]
  },
  {
   "cell_type": "markdown",
   "id": "261ac55b-60bb-4051-b057-432a0c717c6a",
   "metadata": {
    "id": "261ac55b-60bb-4051-b057-432a0c717c6a"
   },
   "source": [
    "<div class=\"alert alert-block alert-success\">\n",
    "\n",
    "**Q1.1.1 Write  $\\lvert\\psi\\rangle$ in terms of the basis states**  \n",
    "\n",
    "</div>"
   ]
  },
  {
   "cell_type": "markdown",
   "id": "4459fa6d-a8aa-40a8-b899-a3d712bf992f",
   "metadata": {
    "id": "4459fa6d-a8aa-40a8-b899-a3d712bf992f"
   },
   "source": [
    "==================================\n",
    "\n",
    "Replace the question marks by your answer:\n",
    "\n",
    "$\\lvert\\psi\\rangle = ?\\lvert0\\rangle + ?\\lvert1\\rangle\\;.$\n",
    "\n",
    "=================================="
   ]
  },
  {
   "cell_type": "markdown",
   "id": "9b84aa91-241c-4f28-bbff-1b5cf4248f5f",
   "metadata": {
    "id": "9b84aa91-241c-4f28-bbff-1b5cf4248f5f"
   },
   "source": [
    "In principle, one cannot extract the quantum state itself from a real quantum circuit, only its information by measurement. Yet, with a quantum simulator, we can use Statevector to get the state itself, which is sometimes helpful for our understanding.\n"
   ]
  },
  {
   "cell_type": "code",
   "execution_count": null,
   "id": "f7c607ab-c49f-4fcc-ab44-d7b2e1011f85",
   "metadata": {
    "id": "f7c607ab-c49f-4fcc-ab44-d7b2e1011f85",
    "tags": []
   },
   "outputs": [],
   "source": [
    "# Create a new circuit with 1 qubits\n",
    "qc1 = QuantumCircuit(1)\n",
    "\n",
    "qc1_state = Statevector(qc1)\n",
    "\n",
    "# Note: Qiskit numbers the bits in a string from right to left.\n",
    "qc1_state.draw('latex', max_size=16)"
   ]
  },
  {
   "cell_type": "markdown",
   "id": "697d19d0-39ee-4e77-b6b9-24e31ff613f3",
   "metadata": {
    "id": "697d19d0-39ee-4e77-b6b9-24e31ff613f3"
   },
   "source": [
    "You have seen that the initial state on a qubit is $|0\\rangle$ by default."
   ]
  },
  {
   "cell_type": "markdown",
   "id": "d252758c-b3be-4143-a964-ac26283875e2",
   "metadata": {
    "id": "d252758c-b3be-4143-a964-ac26283875e2"
   },
   "source": [
    "#### The Bloch sphere\n",
    "A single qubit in the state $\\lvert\\psi\\rangle = \\alpha\\lvert0\\rangle + \\beta\\lvert1\\rangle$  can be visualized as a point $(\\theta, \\phi)$ on the unit sphere, where $\\alpha=\\cos(\\theta/2)$, $\\beta=e^{i\\phi}\\sin(\\theta/2)$, and $\\alpha$ can be taken to be real\n",
    "because the overall phase of the state is unobservable. This is called the Bloch sphere\n",
    "representation, and the vector $(\\cos \\phi \\sin \\theta, \\sin \\phi \\sin \\theta, \\cos \\theta)$ is called the Bloch vector.\n",
    "\n",
    "With qiskit, we can plot the Bloch sphere representation of a state by:"
   ]
  },
  {
   "cell_type": "code",
   "execution_count": null,
   "id": "6a0f3b51-b605-4515-8bd5-f65f299be754",
   "metadata": {
    "id": "6a0f3b51-b605-4515-8bd5-f65f299be754",
    "tags": []
   },
   "outputs": [],
   "source": [
    "plot_bloch_multivector(qc1_state)"
   ]
  },
  {
   "cell_type": "markdown",
   "id": "afcb104e-5a8d-4c3f-8a21-2853aa614fcf",
   "metadata": {
    "id": "afcb104e-5a8d-4c3f-8a21-2853aa614fcf"
   },
   "source": [
    "Let's see another example:"
   ]
  },
  {
   "cell_type": "code",
   "execution_count": null,
   "id": "7396973c-2264-45c8-a0e7-cc07f42543e9",
   "metadata": {
    "id": "7396973c-2264-45c8-a0e7-cc07f42543e9",
    "tags": []
   },
   "outputs": [],
   "source": [
    "# Create a new circuit with 1 qubits\n",
    "qc2 = QuantumCircuit(1)\n",
    "\n",
    "# Add a Hadamard gate to qubit 0\n",
    "qc2.h(0)\n",
    "\n",
    "qc2_state = Statevector(qc2)\n",
    "\n",
    "# Note: Qiskit numbers the bits in a string from right to left.\n",
    "qc2_state.draw('latex', max_size=16)"
   ]
  },
  {
   "cell_type": "code",
   "execution_count": null,
   "id": "c7f48c78-77bd-4215-81b9-24d8f45035ac",
   "metadata": {
    "id": "c7f48c78-77bd-4215-81b9-24d8f45035ac",
    "tags": []
   },
   "outputs": [],
   "source": [
    "plot_bloch_multivector(qc2_state)"
   ]
  },
  {
   "cell_type": "markdown",
   "id": "f1dfd3f9-1860-4c93-8899-ddeb0010ccb5",
   "metadata": {
    "id": "f1dfd3f9-1860-4c93-8899-ddeb0010ccb5"
   },
   "source": [
    "#### 1.1.2 Multi-qubit state\n",
    "In quantum mechanics, the state space of a composite physical system is the tensor product of the state spaces of the component physical systems."
   ]
  },
  {
   "cell_type": "markdown",
   "id": "34a8901a-8482-4564-bfb0-2a147692ee18",
   "metadata": {
    "id": "34a8901a-8482-4564-bfb0-2a147692ee18"
   },
   "source": [
    "You have seen the basis states for the single qubit state,\n",
    "$$\\lvert0\\rangle = \\begin{pmatrix}\n",
    "1 \\\\\n",
    "0 \\\\\n",
    "\\end{pmatrix}\\;,\n",
    "\\quad\n",
    "\\lvert1\\rangle = \\begin{pmatrix}\n",
    "0 \\\\\n",
    "1 \\\\\n",
    "\\end{pmatrix}\\;.\n",
    "$$"
   ]
  },
  {
   "cell_type": "markdown",
   "id": "51a763df-c41a-4667-88ed-8f7fb2d2d8a6",
   "metadata": {
    "id": "51a763df-c41a-4667-88ed-8f7fb2d2d8a6"
   },
   "source": [
    "<div class=\"alert alert-block alert-success\">\n",
    "    \n",
    "**Q1.1.2 Basis states of the 2-qubit system**  \n",
    "Can you write out the basis states for a two-qubit state? What is the dimension? You can write it on a paper.\n",
    "</div>"
   ]
  },
  {
   "cell_type": "markdown",
   "id": "743841f8-3afa-4771-a695-9e3c4ccfa7b8",
   "metadata": {
    "id": "743841f8-3afa-4771-a695-9e3c4ccfa7b8"
   },
   "source": [
    "====================================================================\n",
    "\n",
    "Write your answer here or on a paper\n",
    "\n",
    "$$\n",
    "\\lvert00\\rangle = \\lvert0\\rangle\\otimes \\lvert0\\rangle= \\begin{pmatrix}\n",
    "1 \\\\\n",
    "0 \\\\\n",
    "0 \\\\\n",
    "0 \\\\\n",
    "\\end{pmatrix}\\;,\n",
    "\\quad\n",
    "\\lvert01\\rangle = \\begin{pmatrix}\n",
    "0 \\\\\n",
    "1 \\\\\n",
    "0 \\\\\n",
    "0 \\\\\n",
    "\\end{pmatrix}\\;,\n",
    "\\quad\n",
    "\\lvert10\\rangle = \\begin{pmatrix}\n",
    "0 \\\\\n",
    "0 \\\\\n",
    "1 \\\\\n",
    "0 \\\\\n",
    "\\end{pmatrix}\\;,\n",
    "\\quad\n",
    "\\lvert11\\rangle = \\begin{pmatrix}\n",
    "0 \\\\\n",
    "0 \\\\\n",
    "0 \\\\\n",
    "1 \\\\\n",
    "\\end{pmatrix}\\;.\n",
    "$$\n",
    "\n",
    "====================================================================\n"
   ]
  },
  {
   "cell_type": "markdown",
   "id": "db84fb6b-2d1e-4d38-ad7e-dd978ccab435",
   "metadata": {
    "id": "db84fb6b-2d1e-4d38-ad7e-dd978ccab435"
   },
   "source": [
    "<div class=\"alert alert-block alert-success\">\n",
    "\n",
    "**Q1.1.3 Create a circuit with 5 qubits, and access the state vector**  \n",
    "Clue: check what did in Sec 1.1.1 for the single-qubit circuit.\n",
    "</div>"
   ]
  },
  {
   "cell_type": "code",
   "execution_count": null,
   "id": "bcf8a7f0-8611-41b0-bdb5-883ce487117b",
   "metadata": {
    "id": "bcf8a7f0-8611-41b0-bdb5-883ce487117b",
    "tags": []
   },
   "outputs": [],
   "source": [
    "##### ==================================\n",
    "# Write your solution in here.\n",
    "\n",
    "##### =================================="
   ]
  },
  {
   "cell_type": "markdown",
   "id": "30470df9-f15a-41da-af02-f3f4f82029b8",
   "metadata": {
    "id": "30470df9-f15a-41da-af02-f3f4f82029b8",
    "tags": []
   },
   "source": [
    "### 1.2 Single qubit gates\n",
    "Now, let us look at the operations on the simplest quantum system of all – a single qubit, single qubit gates.\n",
    "\n",
    "Operations on a qubit must preserve its norm, and are thus described by $2\\times 2$ unitary matrices. In the following, we will get familiar with some of the most important ones."
   ]
  },
  {
   "cell_type": "markdown",
   "id": "45b77c6f-8276-4c98-aa1d-6336da7d1a47",
   "metadata": {
    "id": "45b77c6f-8276-4c98-aa1d-6336da7d1a47",
    "tags": []
   },
   "source": [
    "#### X gate\n",
    "The X-gate is represented by the Pauli-X matrix:\n",
    "\n",
    "$X = \\begin{pmatrix}\n",
    "0 & 1 \\\\\n",
    "1 & 0 \\\\\n",
    "\\end{pmatrix}$\n",
    "\n",
    "An X gate equates to a rotation around the X-axis of the Bloch sphere by $\\pi$ radians. It maps $|0\\rangle$ to $|1\\rangle$ and $|1\\rangle$ to $|0\\rangle$. It is the quantum equivalent of the NOT gate for classical computers and is sometimes called a bit-flip."
   ]
  },
  {
   "cell_type": "code",
   "execution_count": null,
   "id": "f73e5b67-70a5-4283-9d20-a6d526c66acc",
   "metadata": {
    "id": "f73e5b67-70a5-4283-9d20-a6d526c66acc"
   },
   "outputs": [],
   "source": [
    "# Let's apply an X-gate on a |0> qubit\n",
    "qcx = QuantumCircuit(1) # Create a quantum circuit with 1 qubit\n",
    "qcx.x(0) # Apply an X gate to the 0-th qubit\n",
    "qcx.draw(output='mpl') # draw the circuit"
   ]
  },
  {
   "cell_type": "markdown",
   "id": "2290b572-d0b2-431e-b8f6-7ec5fe2a180f",
   "metadata": {
    "id": "2290b572-d0b2-431e-b8f6-7ec5fe2a180f"
   },
   "source": [
    "<div class=\"alert alert-block alert-success\">\n",
    "\n",
    "**Q1.2.1 Use Statevector to check the final state of the above circuit**  \n",
    "Clue: Check Sec. 1.1\n",
    "\n",
    "</div>"
   ]
  },
  {
   "cell_type": "code",
   "execution_count": null,
   "id": "10ec4c64-20df-4de3-a9f9-41195975dc04",
   "metadata": {
    "id": "10ec4c64-20df-4de3-a9f9-41195975dc04"
   },
   "outputs": [],
   "source": [
    "##### ==================================\n",
    "# Write your solution in here.\n",
    "\n",
    "\n",
    "##### ==================================\n",
    "# Note: Qiskit numbers the bits in a string from right to left.\n",
    "qcx_state.draw('latex', max_size=16)"
   ]
  },
  {
   "cell_type": "markdown",
   "id": "8bd1ad4c-21e7-4f8f-b984-48e270f95ebf",
   "metadata": {
    "id": "8bd1ad4c-21e7-4f8f-b984-48e270f95ebf"
   },
   "source": [
    "<div class=\"alert alert-block alert-success\">\n",
    "\n",
    "**Q1.2.2 Show the Bloch sphere representation of the obtained state**  \n",
    "Clue: Check Sec. 1.1\n",
    "</div>"
   ]
  },
  {
   "cell_type": "code",
   "execution_count": null,
   "id": "33e6aac6-e86a-406f-8094-2b4743627f5a",
   "metadata": {
    "id": "33e6aac6-e86a-406f-8094-2b4743627f5a"
   },
   "outputs": [],
   "source": [
    "##### ==================================\n",
    "# Write your solution in here.\n",
    "\n",
    "\n",
    "##### =================================="
   ]
  },
  {
   "cell_type": "markdown",
   "id": "caa63e08-f9d4-45c7-b66d-ee87924bb0c8",
   "metadata": {
    "id": "caa63e08-f9d4-45c7-b66d-ee87924bb0c8"
   },
   "source": [
    "We can also make a measurement on the circuit."
   ]
  },
  {
   "cell_type": "code",
   "execution_count": null,
   "id": "5497bfe9-bb32-4d46-ad7a-32100549d200",
   "metadata": {
    "id": "5497bfe9-bb32-4d46-ad7a-32100549d200"
   },
   "outputs": [],
   "source": [
    "# map qubits to classical bits\n",
    "qcx.measure_all()\n",
    "qcx.draw(output='mpl') # draw the circuit"
   ]
  },
  {
   "cell_type": "markdown",
   "id": "bfd5252f-9fbd-4090-a838-dc60984e4e08",
   "metadata": {
    "id": "bfd5252f-9fbd-4090-a838-dc60984e4e08",
    "tags": []
   },
   "source": [
    "#### Y gate\n",
    "The Y-gate is represented by the Pauli-Y matrix:\n",
    "\n",
    "$Y = \\begin{pmatrix}\n",
    "0 & -i \\\\\n",
    "i & 0 \\\\\n",
    "\\end{pmatrix}$\n",
    "\n",
    "It maps $|0\\rangle$ to $i|1\\rangle$ and $|1\\rangle$ to $-i|0\\rangle$."
   ]
  },
  {
   "cell_type": "markdown",
   "id": "dbb310ab-f1e5-4b53-94f0-63318a39cebd",
   "metadata": {
    "id": "dbb310ab-f1e5-4b53-94f0-63318a39cebd"
   },
   "source": [
    "<div class=\"alert alert-block alert-success\">\n",
    "\n",
    "**Q1.2.3 Construct a single-qubit circuit and apply an Y gate on it**  \n",
    "You have just seen above how an X gate operates on a qubit. Based on that, can you guess what it is like for the Y gate?\n",
    "\n",
    "</div>"
   ]
  },
  {
   "cell_type": "code",
   "execution_count": null,
   "id": "a070c14f-ba1d-4e20-9ab0-49628d08f760",
   "metadata": {
    "id": "a070c14f-ba1d-4e20-9ab0-49628d08f760"
   },
   "outputs": [],
   "source": [
    "# Let's apply an Y-gate on a |0> qubit\n",
    "##### ==================================\n",
    "# Write your solution in here.\n",
    "\n",
    "\n",
    "##### ==================================\n",
    "qcy.draw(output='mpl') # draw the circuit"
   ]
  },
  {
   "cell_type": "markdown",
   "id": "bc19f10c-48c2-4c25-b6d3-551be9f86dba",
   "metadata": {
    "id": "bc19f10c-48c2-4c25-b6d3-551be9f86dba"
   },
   "source": [
    "That's right, the operator of the Y gate is simply \"y\", as \"x\" for the X gate, quite intuitive, right? This is similar for Z and H gates that we will see soon.\n",
    "\n",
    "For now, let us complete the exercise for Y gate by checking the final state."
   ]
  },
  {
   "cell_type": "code",
   "execution_count": null,
   "id": "b66b1662-2bdd-42eb-9c3f-4caff347fd0a",
   "metadata": {
    "id": "b66b1662-2bdd-42eb-9c3f-4caff347fd0a"
   },
   "outputs": [],
   "source": [
    "# Use Statevector to check the final state\n",
    "##### ==================================\n",
    "# Write your solution in here.\n",
    "\n",
    "\n",
    "##### ==================================\n",
    "# Note: Qiskit numbers the bits in a string from right to left.\n",
    "qcy_state.draw('latex', max_size=16)"
   ]
  },
  {
   "cell_type": "code",
   "execution_count": null,
   "id": "90d83f1f-6a40-4c9e-a41f-af600721249c",
   "metadata": {
    "id": "90d83f1f-6a40-4c9e-a41f-af600721249c"
   },
   "outputs": [],
   "source": [
    "# Show its Bloch sphere representation\n",
    "##### ==================================\n",
    "# Write your solution in here.\n",
    "\n",
    "\n",
    "##### =================================="
   ]
  },
  {
   "cell_type": "markdown",
   "id": "a843ab62-e91a-440f-be45-719ae0972a8a",
   "metadata": {
    "id": "a843ab62-e91a-440f-be45-719ae0972a8a",
    "tags": []
   },
   "source": [
    "#### Z gate\n",
    "The Z-gate is represented by the Pauli-Z matrix:\n",
    "\n",
    "$Z = \\begin{pmatrix}\n",
    "1 & 0 \\\\\n",
    "0 & -1 \\\\\n",
    "\\end{pmatrix}$\n",
    "\n",
    "The Z gate leaves $|0\\rangle$ unchanged, and flips the sign of $|1\\rangle$ to give $-|1\\rangle$."
   ]
  },
  {
   "cell_type": "markdown",
   "id": "893e664f-0f1b-417a-a25a-b6c87a1891d9",
   "metadata": {
    "id": "893e664f-0f1b-417a-a25a-b6c87a1891d9"
   },
   "source": [
    "<div class=\"alert alert-block alert-success\">\n",
    "\n",
    "**Q1.2.4 Construct a single-qubit circuit and apply a Z gate on it**  \n",
    "\n",
    "</div>"
   ]
  },
  {
   "cell_type": "code",
   "execution_count": null,
   "id": "72f31bfa-c5ab-4c40-aa82-af2e7319ee75",
   "metadata": {
    "id": "72f31bfa-c5ab-4c40-aa82-af2e7319ee75"
   },
   "outputs": [],
   "source": [
    "# Let's apply an Z-gate on a |0> qubit\n",
    "##### ==================================\n",
    "# Write your solution in here.\n",
    "\n",
    "\n",
    "##### ==================================\n",
    "qcz.draw(output='mpl') # draw the circuit"
   ]
  },
  {
   "cell_type": "code",
   "execution_count": null,
   "id": "58a7da66-56f9-45d2-aa83-9541f205becd",
   "metadata": {
    "id": "58a7da66-56f9-45d2-aa83-9541f205becd"
   },
   "outputs": [],
   "source": [
    "# Use Statevector to check the final state\n",
    "##### ==================================\n",
    "# Write your solution in here.\n",
    "\n",
    "\n",
    "##### ==================================\n",
    "# Note: Qiskit numbers the bits in a string from right to left.\n",
    "qcz_state.draw('latex', max_size=16)"
   ]
  },
  {
   "cell_type": "code",
   "execution_count": null,
   "id": "4d8cf43f-e5e6-481e-806e-e9ba9b1aaf90",
   "metadata": {
    "id": "4d8cf43f-e5e6-481e-806e-e9ba9b1aaf90"
   },
   "outputs": [],
   "source": [
    "# Show its Bloch sphere representation\n",
    "##### ==================================\n",
    "# Write your solution in here.\n",
    "\n",
    "\n",
    "##### =================================="
   ]
  },
  {
   "cell_type": "markdown",
   "id": "08ec4590-b3ba-4d50-b933-b6081e68f95c",
   "metadata": {
    "id": "08ec4590-b3ba-4d50-b933-b6081e68f95c"
   },
   "source": [
    "<div class=\"alert alert-block alert-success\">\n",
    "\n",
    "**Q1.2.5 Construct a single-qubit circuit and apply a Z gate on a $|1\\rangle$ state**  \n",
    "Clue: recall how we created a $|1\\rangle$ state in the previous exercises.\n",
    "</div>"
   ]
  },
  {
   "cell_type": "code",
   "execution_count": null,
   "id": "635a6d13-391e-42a1-81f0-d0fc94d4e05d",
   "metadata": {
    "id": "635a6d13-391e-42a1-81f0-d0fc94d4e05d"
   },
   "outputs": [],
   "source": [
    "# Let's apply an Z-gate on a |1> qubit\n",
    "##### ==================================\n",
    "# Write your solution in here.\n",
    "\n",
    "\n",
    "##### ==================================\n",
    "qcz1.draw(output='mpl') # draw the circuit"
   ]
  },
  {
   "cell_type": "code",
   "execution_count": null,
   "id": "0d442e75-9342-4a5b-90fc-e7db1d34ddd7",
   "metadata": {
    "id": "0d442e75-9342-4a5b-90fc-e7db1d34ddd7"
   },
   "outputs": [],
   "source": [
    "# Use Statevector to check the final state\n",
    "##### ==================================\n",
    "# Write your solution in here.\n",
    "\n",
    "\n",
    "##### ==================================\n",
    "# Note: Qiskit numbers the bits in a string from right to left.\n",
    "qcz1_state.draw('latex', max_size=16)"
   ]
  },
  {
   "cell_type": "markdown",
   "id": "1b0957ba-3347-4efa-9baf-0d48ce6ec7a9",
   "metadata": {
    "id": "1b0957ba-3347-4efa-9baf-0d48ce6ec7a9",
    "tags": []
   },
   "source": [
    "#### Hadamard gate (H gate)\n",
    "A Hadamard gate represents a rotation of $\\pi$ about the axis that is in the middle of the X-axis and Z-axis.\n",
    "It maps the basis state $|0\\rangle$ to $|+\\rangle\\equiv\\frac{|0\\rangle + |1\\rangle}{\\sqrt{2}}$, which means that a measurement will have equal probabilities of being `1` or `0`, creating a 'superposition' of states. What the Hadamard does is to transform between the $\\{|0\\rangle, |1\\rangle\\}$ and the $\\{|+\\rangle, |-\\rangle\\}$ base. It matrix representation is\n",
    "\n",
    "$H = \\frac{1}{\\sqrt{2}}\\begin{pmatrix}\n",
    "1 & 1 \\\\\n",
    "1 & -1 \\\\\n",
    "\\end{pmatrix}$"
   ]
  },
  {
   "cell_type": "markdown",
   "id": "bc73d9c2-1e6b-4bd0-b4a5-4382d4037f8d",
   "metadata": {
    "id": "bc73d9c2-1e6b-4bd0-b4a5-4382d4037f8d"
   },
   "source": [
    "<div class=\"alert alert-block alert-success\">\n",
    "\n",
    "**Q1.2.6 Construct a single-qubit circuit and apply an H gate on it**  \n",
    "\n",
    "</div>"
   ]
  },
  {
   "cell_type": "code",
   "execution_count": null,
   "id": "8e075293-de24-4834-a17a-6465fe04f9ba",
   "metadata": {
    "id": "8e075293-de24-4834-a17a-6465fe04f9ba"
   },
   "outputs": [],
   "source": [
    "# Let's apply an H-gate on a |0> state, and draw the circuit\n",
    "##### ==================================\n",
    "# Write your solution in here.\n",
    "\n",
    "\n",
    "\n",
    "##### =================================="
   ]
  },
  {
   "cell_type": "code",
   "execution_count": null,
   "id": "4646d32f-e580-4cb7-a17e-746b287340ba",
   "metadata": {
    "id": "4646d32f-e580-4cb7-a17e-746b287340ba"
   },
   "outputs": [],
   "source": [
    "# Use Statevector to check the final state\n",
    "##### ==================================\n",
    "# Write your solution in here.\n",
    "\n",
    "\n",
    "##### ==================================\n",
    "\n",
    "# Note: Qiskit numbers the bits in a string from right to left.\n",
    "qch_state.draw('latex', max_size=16)"
   ]
  },
  {
   "cell_type": "markdown",
   "id": "d4b81306-1b10-4c1d-9523-04ca95280ec7",
   "metadata": {
    "id": "d4b81306-1b10-4c1d-9523-04ca95280ec7"
   },
   "source": [
    "Great! You have made a $|+\\rangle$ state on the circuit."
   ]
  },
  {
   "cell_type": "code",
   "execution_count": null,
   "id": "e15f148f-b7ae-4002-af97-a9bdfcfbf363",
   "metadata": {
    "id": "e15f148f-b7ae-4002-af97-a9bdfcfbf363"
   },
   "outputs": [],
   "source": [
    "# Show the Bloch sphere representation\n",
    "##### ==================================\n",
    "# Write your solution in here.\n",
    "\n",
    "\n",
    "##### =================================="
   ]
  },
  {
   "cell_type": "markdown",
   "id": "0f592b18-2179-417e-abe9-eed661596064",
   "metadata": {
    "id": "0f592b18-2179-417e-abe9-eed661596064"
   },
   "source": [
    "<div class=\"alert alert-block alert-success\">\n",
    "\n",
    "**Q1.2.7 Find out the $|-\\rangle$ state**  \n",
    "    \n",
    "Clue: Build a quantum circuit that applies H gate on $|1\\rangle$.   \n",
    "</div>"
   ]
  },
  {
   "cell_type": "code",
   "execution_count": null,
   "id": "3e6f1afc-8a63-4a02-aafb-d682b11d2a63",
   "metadata": {
    "id": "3e6f1afc-8a63-4a02-aafb-d682b11d2a63"
   },
   "outputs": [],
   "source": [
    "qc_Q1p1 = QuantumCircuit(1)\n",
    "##### ==================================\n",
    "# Write your solution in here.\n",
    "\n",
    "\n",
    "##### ==================================\n",
    "qc_Q1p1.draw(output='mpl') # draw the circuit"
   ]
  },
  {
   "cell_type": "markdown",
   "id": "863d89d9-f21c-4d76-9aa9-dedfbbcdff9a",
   "metadata": {
    "id": "863d89d9-f21c-4d76-9aa9-dedfbbcdff9a"
   },
   "source": [
    "Like before, check your solution with Statevector and Bloch sphere representation."
   ]
  },
  {
   "cell_type": "code",
   "execution_count": null,
   "id": "d652a293-3162-4d45-96cb-b7c2874f520f",
   "metadata": {
    "id": "d652a293-3162-4d45-96cb-b7c2874f520f"
   },
   "outputs": [],
   "source": [
    "# Statevector representation\n",
    "##### ==================================\n",
    "# Write your solution in here.\n",
    "\n",
    "\n",
    "##### ==================================\n",
    "\n",
    "# Note: Qiskit numbers the bits in a string from right to left.\n",
    "qc_Q1p1_state.draw('latex', max_size=16)"
   ]
  },
  {
   "cell_type": "markdown",
   "id": "213ca5a5-c125-463c-8418-07feb93c6447",
   "metadata": {
    "id": "213ca5a5-c125-463c-8418-07feb93c6447"
   },
   "source": [
    "Verify the result you got by comparing it to that obtained through matrix multiplication $|-\\rangle=H|1\\rangle$."
   ]
  },
  {
   "cell_type": "code",
   "execution_count": null,
   "id": "80a48127-fbdf-41ad-9d12-bfda7075ddb8",
   "metadata": {
    "id": "80a48127-fbdf-41ad-9d12-bfda7075ddb8"
   },
   "outputs": [],
   "source": [
    "# Bloch sphere representation\n",
    "##### ==================================\n",
    "# Write your solution in here.\n",
    "\n",
    "\n",
    "##### =================================="
   ]
  },
  {
   "cell_type": "markdown",
   "id": "f34ac6c6-c1f0-4127-85b9-2d3e0329db4e",
   "metadata": {
    "id": "f34ac6c6-c1f0-4127-85b9-2d3e0329db4e"
   },
   "source": [
    "#### Phase gate (P gate)\n",
    "\n",
    "The phase gate is a single-qubit rotation gate about the Z axis. It is a crucial quantum gate generating the relative phase between $|0\\rangle$ and $|1\\rangle$. It can be implemented virtually in hardware via framechanges (i.e. at zero error and duration). Unlike the Hadamard and X gate, the phase gate also takes in a rotation angle $\\lambda$ (in radians).\n",
    "\n",
    "$P(\\lambda) = \\begin{pmatrix}\n",
    "1 & 0 \\\\\n",
    "0 & e^{i\\lambda} \\\\\n",
    "\\end{pmatrix}$\n",
    "\n",
    "Note, the phase gate is a generalized gate for several commonly used quantum gates:\n",
    "\n",
    "$P(\\lambda =\\pi) = Z,\\qquad\n",
    "P(\\lambda =\\pi/2)= S,\\qquad\n",
    "P(\\lambda =\\pi/4)= T$"
   ]
  },
  {
   "cell_type": "code",
   "execution_count": null,
   "id": "e88e6a50-5204-42b0-bf27-56f339f244bb",
   "metadata": {
    "id": "e88e6a50-5204-42b0-bf27-56f339f244bb",
    "tags": []
   },
   "outputs": [],
   "source": [
    "# Apply a P-gate with pi rotation phase on a |0> state\n",
    "qcp = QuantumCircuit(1)\n",
    "qcp.p(pi/2, 0)\n",
    "qcp.draw(output='mpl')"
   ]
  },
  {
   "cell_type": "code",
   "execution_count": null,
   "id": "48ae7de7-0702-47dc-b073-53fd7ce05d15",
   "metadata": {
    "id": "48ae7de7-0702-47dc-b073-53fd7ce05d15",
    "tags": []
   },
   "outputs": [],
   "source": [
    "# Apply a T-gate on a |+> state\n",
    "qct = QuantumCircuit(1)\n",
    "qct.h(0)\n",
    "qct.p(pi, 0)\n",
    "qct.draw(output='mpl')"
   ]
  },
  {
   "cell_type": "markdown",
   "id": "fadbedf6-e32d-4307-9078-89c7c8dbe54e",
   "metadata": {
    "id": "fadbedf6-e32d-4307-9078-89c7c8dbe54e"
   },
   "source": [
    "<div class=\"alert alert-block alert-success\">\n",
    "    \n",
    "**Q1.2.8 Circuit identities (Optional)**  \n",
    "    \n",
    "Prove the identity:  HXH=Z;\n",
    "\n",
    "Complete the following: HYH = ?; HZH = ?\n",
    "\n",
    "If you are very familiar with matrix multiplication, you can also do this exercise on a paper.\n",
    "\n",
    "You can skip this exercise and come back to it after going through this notebook.\n",
    "    \n",
    "</div>"
   ]
  },
  {
   "cell_type": "code",
   "execution_count": null,
   "id": "c58fc264-ddc2-4dda-b63e-a21392f2693f",
   "metadata": {
    "id": "c58fc264-ddc2-4dda-b63e-a21392f2693f"
   },
   "outputs": [],
   "source": [
    "## Check by matrix multiplication\n",
    "## you can also do this by hand\n",
    "\n",
    "import sympy as sp\n",
    "import cmath\n",
    "\n",
    "# Define symbolic Hadamard and X gates\n",
    "sqrt2 = sp.sqrt(2)\n",
    "H_matrix = sp.Matrix([[1/sqrt2, 1/sqrt2], [1/sqrt2, -1/sqrt2]])\n",
    "X_matrix = sp.Matrix([[0, 1], [1, 0]])\n",
    "Y_matrix = sp.Matrix([[0, -sp.I], [sp.I, 0]])\n",
    "Z_matrix = sp.Matrix([[1, 0], [0, -1]])\n",
    "\n",
    "# Perform symbolic matrix multiplication\n",
    "LHS = H_matrix @ X_matrix @ H_matrix\n",
    "\n",
    "print(\"Matrix HXH (exact):\")\n",
    "sp.pprint(LHS)\n",
    "\n",
    "print(\"\\nMatrix Z:\")\n",
    "sp.pprint(Z_matrix)\n",
    "\n",
    "# Check for symbolic equality\n",
    "print(\"\\nIs HXH equal to Z?\")\n",
    "print(LHS == Z_matrix)\n"
   ]
  },
  {
   "cell_type": "code",
   "execution_count": null,
   "id": "a704bd24-92dc-46d1-a68f-2d10796500cf",
   "metadata": {
    "id": "a704bd24-92dc-46d1-a68f-2d10796500cf"
   },
   "outputs": [],
   "source": [
    "## Check HYH and HZH by matrix multiplication\n",
    "\n",
    "##### ==================================\n",
    "# Write your solution in here.\n",
    "\n",
    "# Perform symbolic matrix multiplication\n",
    "\n",
    "\n",
    "\n",
    "# Perform symbolic matrix multiplication\n",
    "\n",
    "##### ==================================\n",
    "\n",
    "\n",
    "print(\"Matrix HYH (exact):\")\n",
    "sp.pprint(HYH)\n",
    "\n",
    "print(\"Matrix HZH (exact):\")\n",
    "sp.pprint(HZH)\n"
   ]
  },
  {
   "cell_type": "markdown",
   "id": "972f8970-9ea0-476f-83e5-2d7c84f5cf94",
   "metadata": {
    "id": "972f8970-9ea0-476f-83e5-2d7c84f5cf94"
   },
   "source": [
    "The identies we have proved are:  HXH=Z; HYH = -Y; HZH = X.\n",
    "They are sometimes useful to simplify circuits."
   ]
  },
  {
   "cell_type": "markdown",
   "id": "284e40c6-1be0-45db-b877-35ee0de9daf4",
   "metadata": {
    "id": "284e40c6-1be0-45db-b877-35ee0de9daf4"
   },
   "source": [
    "### 1.3 Controlled operations\n",
    "‘If A is true, then do B’.\n",
    "\n",
    "<img style=\"float: middle\" src=\"images/CU_gate.png\" width=\"200\">\n",
    "\n",
    "Suppose U is an arbitrary single qubit unitary operation. A controlled-\n",
    "U operation is a two qubit operation, with a c(control) and a t(target) qubit. If the c\n",
    "qubit is set then U is applied to the target qubit, otherwise the t qubit is left alone;\n",
    "that is, $|c\\rangle|t\\rangle \\rightarrow |c\\rangle U^c|t\\rangle$ ."
   ]
  },
  {
   "cell_type": "markdown",
   "id": "a5421c70-c5a7-4535-bcad-09c3678f9d6b",
   "metadata": {
    "id": "a5421c70-c5a7-4535-bcad-09c3678f9d6b"
   },
   "source": [
    "#### Controlled-NOT gate (CX, CNOT gate)\n",
    "\n",
    "The controlled NOT (or CNOT or CX) gate acts on two qubits. It performs the NOT operation (equivalent to applying an X gate) on the second qubit only when the first qubit is $|1\\rangle$ and otherwise leaves it unchanged.\n",
    "\n",
    "$CX = \\begin{pmatrix}\n",
    "1 & 0 & 0 & 0  \\\\\n",
    "0 & 1 & 0 & 0 \\\\\n",
    "0 & 0 & 0 & 1 \\\\\n",
    "0 & 0 & 1 & 0 \\\\\n",
    "\\end{pmatrix}$\n",
    "\n",
    "The outcome of the states is summarized as the following:\n",
    "$$\n",
    "\\begin{array}{c}\n",
    "\\large |c\\rangle|t\\rangle \\rightarrow |c'\\rangle |t'\\rangle\\\\\n",
    "\\large |0\\rangle|0\\rangle \\rightarrow |0\\rangle|0\\rangle\\\\\n",
    "\\large |0\\rangle|1\\rangle \\rightarrow |0\\rangle|1\\rangle\\\\\n",
    "\\large|1\\rangle|0\\rangle \\rightarrow |1\\rangle|1\\rangle\\\\\n",
    "\\large |1\\rangle|1\\rangle \\rightarrow |1\\rangle|0\\rangle\\\\\n",
    "\\end{array}\n",
    "$$"
   ]
  },
  {
   "cell_type": "markdown",
   "id": "0e81e421-f236-4ee8-be9d-0d0905400822",
   "metadata": {
    "id": "0e81e421-f236-4ee8-be9d-0d0905400822"
   },
   "source": [
    "Let's build a circuit with a CX gate."
   ]
  },
  {
   "cell_type": "code",
   "execution_count": null,
   "id": "e9c0ff30-7ec7-465a-942e-41120d4bed5e",
   "metadata": {
    "id": "e9c0ff30-7ec7-465a-942e-41120d4bed5e"
   },
   "outputs": [],
   "source": [
    "qc_cx = QuantumCircuit(2)\n",
    "qc_cx.cx(0,1) # here, the c qubit is the 0th qubit, and the t qubit is the 1st qubit\n",
    "qc_cx.draw(output='mpl')"
   ]
  },
  {
   "cell_type": "code",
   "execution_count": null,
   "id": "b06f7ef0-594e-4de6-8e0a-7b7019e53f67",
   "metadata": {
    "id": "b06f7ef0-594e-4de6-8e0a-7b7019e53f67"
   },
   "outputs": [],
   "source": [
    "# Statevector representation\n",
    "qc_cx_state = Statevector(qc_cx)\n",
    "\n",
    "# Note: Qiskit numbers the bits in a string from right to left.\n",
    "qc_cx_state.draw('latex', max_size=16)"
   ]
  },
  {
   "cell_type": "markdown",
   "id": "7dad9342-007b-4460-8c20-9776589bd705",
   "metadata": {
    "id": "7dad9342-007b-4460-8c20-9776589bd705"
   },
   "source": [
    "<div class=\"alert alert-block alert-success\">\n",
    "    \n",
    "**Q1.3.1 Apply a CX gate to $|t=0\\rangle|c=1\\rangle$ state**  \n",
    "\n",
    "Note that Qiskit numbers the bits in a string from right to left, e.g., in  $|01\\rangle$, the 0-th qubit is $1$ and the 1-st qubit is $0$.\n",
    "</div>"
   ]
  },
  {
   "cell_type": "code",
   "execution_count": null,
   "id": "06cebd77-1cd4-4dc4-98c5-e9f83a0e7a37",
   "metadata": {
    "id": "06cebd77-1cd4-4dc4-98c5-e9f83a0e7a37"
   },
   "outputs": [],
   "source": [
    "qc_cx10 = QuantumCircuit(2)\n",
    "##### ==================================\n",
    "# Write your solution in here.\n",
    "\n",
    "\n",
    "##### ==================================\n",
    "qc_cx10.draw(output='mpl')"
   ]
  },
  {
   "cell_type": "markdown",
   "id": "904c4fdc-5da3-4dc3-91ab-da2ba8b66f57",
   "metadata": {
    "id": "904c4fdc-5da3-4dc3-91ab-da2ba8b66f57"
   },
   "source": [
    "Check the result:"
   ]
  },
  {
   "cell_type": "code",
   "execution_count": null,
   "id": "bb75dd22-2171-431a-a0be-4d6ff10e8f74",
   "metadata": {
    "id": "bb75dd22-2171-431a-a0be-4d6ff10e8f74"
   },
   "outputs": [],
   "source": [
    "# Statevector representation\n",
    "qc_cx10_state = Statevector(qc_cx10)\n",
    "# Note: Qiskit numbers the bits in a string from right to left.\n",
    "qc_cx10_state.draw('latex', max_size=16)"
   ]
  },
  {
   "cell_type": "markdown",
   "id": "07f99636-d316-4b06-80cb-51608bfdd3db",
   "metadata": {
    "id": "07f99636-d316-4b06-80cb-51608bfdd3db"
   },
   "source": [
    "#### Controlled-Z gate\n",
    "\n",
    "The controlled-Z (or CZ) gate acts on two qubits. It performs the Z gate operation on the t(target) qubit only when the c(control) qubit is $|1\\rangle$ and otherwise leaves it unchanged.\n",
    "\n",
    "$CZ = \\begin{pmatrix}\n",
    "1 & 0 & 0 & 0  \\\\\n",
    "0 & 1 & 0 & 0 \\\\\n",
    "0 & 0 & 1 & 0 \\\\\n",
    "0 & 0 & 0 & -1 \\\\\n",
    "\\end{pmatrix}$\n"
   ]
  },
  {
   "cell_type": "code",
   "execution_count": null,
   "id": "df93fb8f-2e70-46fa-b5cb-1f287ba33033",
   "metadata": {
    "id": "df93fb8f-2e70-46fa-b5cb-1f287ba33033"
   },
   "outputs": [],
   "source": [
    "qc_cz = QuantumCircuit(2)\n",
    "qc_cz.cz(0,1)\n",
    "qc_cz.draw(output='mpl')"
   ]
  },
  {
   "cell_type": "markdown",
   "id": "84a003d4-f3ff-4c4a-884f-0708575fb93d",
   "metadata": {
    "id": "84a003d4-f3ff-4c4a-884f-0708575fb93d"
   },
   "source": [
    "<div class=\"alert alert-block alert-success\">\n",
    "\n",
    "**Q1.3.2 Construct a CNOT gate from one CZ and two Hadamard gates (optional)**  \n",
    "Clue: Use the identities in Q1.2.6.\n",
    "</div>"
   ]
  },
  {
   "cell_type": "code",
   "execution_count": null,
   "id": "4fe23722-a457-4dc7-b09a-228db2201875",
   "metadata": {
    "id": "4fe23722-a457-4dc7-b09a-228db2201875"
   },
   "outputs": [],
   "source": [
    "qc_Q1 = QuantumCircuit(2)\n",
    "##### ==================================\n",
    "# Write your solution in here.\n",
    "\n",
    "\n",
    "##### ==================================\n",
    "qc_Q1.draw(output='mpl')"
   ]
  },
  {
   "cell_type": "markdown",
   "id": "96b3f459-24b8-4935-a71e-8d09f2dae776",
   "metadata": {
    "id": "96b3f459-24b8-4935-a71e-8d09f2dae776"
   },
   "source": [
    "<div class=\"alert alert-block alert-success\">\n",
    "\n",
    "**Q1.3.3 CNOT in the $|\\pm\\rangle$ basis**  \n",
    "What happens when the CNOT gate applies to $|+\\rangle|+\\rangle$, $|+\\rangle|-\\rangle$, $|-\\rangle|+\\rangle$, and $|-\\rangle|-\\rangle$? Check the control and target bits.\n",
    "</div>"
   ]
  },
  {
   "cell_type": "code",
   "execution_count": null,
   "id": "b0e1a4b7-c1b5-486c-a2e3-2d910cd48536",
   "metadata": {
    "id": "b0e1a4b7-c1b5-486c-a2e3-2d910cd48536"
   },
   "outputs": [],
   "source": [
    "## c=|+>, t=|+>\n",
    "qc_pp = QuantumCircuit(2)\n",
    "##### ==================================\n",
    "# Write your solution in here.\n",
    "\n",
    "\n",
    "##### ==================================\n",
    "qc_pp.draw(output='mpl')"
   ]
  },
  {
   "cell_type": "code",
   "execution_count": null,
   "id": "b970919c-e64e-4692-af8d-dce6c836b523",
   "metadata": {
    "id": "b970919c-e64e-4692-af8d-dce6c836b523"
   },
   "outputs": [],
   "source": [
    "# Statevector representation\n",
    "qc_pp_state = Statevector(qc_pp)\n",
    "qc_pp_state.draw('latex', max_size=16)"
   ]
  },
  {
   "cell_type": "markdown",
   "id": "dc85d232-8220-4930-a684-54ae5ba8b970",
   "metadata": {
    "id": "dc85d232-8220-4930-a684-54ae5ba8b970"
   },
   "source": [
    "What do you get? Can you write it in the $\\{|+\\rangle,|-\\rangle\\}$ basis?"
   ]
  },
  {
   "cell_type": "code",
   "execution_count": null,
   "id": "dcbabe59-e83b-4c33-9ba3-4b636b3e6a54",
   "metadata": {
    "id": "dcbabe59-e83b-4c33-9ba3-4b636b3e6a54"
   },
   "outputs": [],
   "source": [
    "## c=|+>, t=|->\n",
    "qc_pm = QuantumCircuit(2)\n",
    "##### ==================================\n",
    "# Write your solution in here.\n",
    "\n",
    "\n",
    "##### ==================================\n",
    "qc_pm.draw(output='mpl')\n"
   ]
  },
  {
   "cell_type": "code",
   "execution_count": null,
   "id": "4d074db4-2589-47dc-a88e-2e7f27f9aa3c",
   "metadata": {
    "id": "4d074db4-2589-47dc-a88e-2e7f27f9aa3c"
   },
   "outputs": [],
   "source": [
    "# Statevector representation\n",
    "qc_pm_state = Statevector(qc_pm)\n",
    "qc_pm_state.draw('latex', max_size=16)"
   ]
  },
  {
   "cell_type": "code",
   "execution_count": null,
   "id": "ca3735a3-a16d-4e86-b07b-9a47baff7606",
   "metadata": {
    "id": "ca3735a3-a16d-4e86-b07b-9a47baff7606"
   },
   "outputs": [],
   "source": [
    "## c=|->, t=|+>\n",
    "qc_mp = QuantumCircuit(2)\n",
    "##### ==================================\n",
    "# Write your solution in here.\n",
    "\n",
    "\n",
    "##### ==================================\n",
    "qc_mp.draw(output='mpl')\n"
   ]
  },
  {
   "cell_type": "code",
   "execution_count": null,
   "id": "2f42444d-bf99-4f12-b7c6-94c31d05d79d",
   "metadata": {
    "id": "2f42444d-bf99-4f12-b7c6-94c31d05d79d"
   },
   "outputs": [],
   "source": [
    "# Statevector representation\n",
    "qc_mp_state = Statevector(qc_mp)\n",
    "qc_mp_state.draw('latex', max_size=16)"
   ]
  },
  {
   "cell_type": "code",
   "execution_count": null,
   "id": "213a2a5d-6fa5-4ef0-874a-6aa509414fb9",
   "metadata": {
    "id": "213a2a5d-6fa5-4ef0-874a-6aa509414fb9"
   },
   "outputs": [],
   "source": [
    "## c=|->, t=|->\n",
    "qc_mm = QuantumCircuit(2)\n",
    "##### ==================================\n",
    "# Write your solution in here.\n",
    "\n",
    "\n",
    "##### ==================================\n",
    "qc_mm.draw(output='mpl')\n"
   ]
  },
  {
   "cell_type": "code",
   "execution_count": null,
   "id": "11170f8c-4b83-482a-a54b-95465e2962e5",
   "metadata": {
    "id": "11170f8c-4b83-482a-a54b-95465e2962e5"
   },
   "outputs": [],
   "source": [
    "# Statevector representation\n",
    "qc_mm_state = Statevector(qc_mm)\n",
    "qc_mm_state.draw('latex', max_size=16)"
   ]
  },
  {
   "cell_type": "markdown",
   "id": "71284f23-edc3-47cc-8bf3-41e7f8e9b465",
   "metadata": {
    "id": "71284f23-edc3-47cc-8bf3-41e7f8e9b465"
   },
   "source": [
    "Summarize the results you got to complete the following table\n",
    "$$\n",
    "\\begin{array}{c}\n",
    "\\large |c\\rangle|t\\rangle \\rightarrow |c'\\rangle |t'\\rangle\\\\\n",
    "\\large |+\\rangle|+\\rangle \\rightarrow |?\\rangle |?\\rangle\\\\\n",
    "\\large |+\\rangle|-\\rangle \\rightarrow |?\\rangle |?\\rangle\\\\\n",
    "\\large |-\\rangle|+\\rangle \\rightarrow |?\\rangle |?\\rangle\\\\\n",
    "\\large |-\\rangle|-\\rangle \\rightarrow |?\\rangle |?\\rangle\\\\\n",
    "\\end{array}\n",
    "$$"
   ]
  },
  {
   "cell_type": "markdown",
   "id": "376e30b4-c6a4-463b-b958-d2718dbca088",
   "metadata": {
    "id": "376e30b4-c6a4-463b-b958-d2718dbca088"
   },
   "source": [
    "In this basis, the target and control have essentially interchanged their roles!"
   ]
  },
  {
   "cell_type": "markdown",
   "id": "630df355-bbf6-4744-9340-0864f4c1163b",
   "metadata": {
    "id": "630df355-bbf6-4744-9340-0864f4c1163b"
   },
   "source": [
    "#### CCX gate (Toffoli gate)\n",
    "\n",
    "The CCX gate (controlled controlled X Gate) is also known as the Toffoli gate. The CCX gate is a three-bit gate, with two controls and one target as their input and output. If the first two bits are in the state $|1\\rangle$, it applies a Pauli-X (or NOT) on the third bit. Otherwise, it does nothing. What is the matrix representation of the CCX gate?\n",
    "\n",
    "$CCX = \\begin{pmatrix}\n",
    "1 & 0 & 0 & 0 & 0 & 0 & 0 & 0 \\\\\n",
    "0 & 1 & 0 & 0 & 0 & 0 & 0 & 0 \\\\\n",
    "0 & 0 & 1 & 0 & 0 & 0 & 0 & 0 \\\\\n",
    "0 & 0 & 0 & 1 & 0 & 0 & 0 & 0 \\\\\n",
    "0 & 0 & 0 & 0 & 1 & 0 & 0 & 0 \\\\\n",
    "0 & 0 & 0 & 0 & 0 & 1 & 0 & 0 \\\\\n",
    "0 & 0 & 0 & 0 & 0 & 0 & 0 & 1 \\\\\n",
    "0 & 0 & 0 & 0 & 0 & 0 & 1 & 0 \\\\\n",
    "\\end{pmatrix}$"
   ]
  },
  {
   "cell_type": "code",
   "execution_count": null,
   "id": "7aac7510-78d8-4d80-b258-042a8001c8a5",
   "metadata": {
    "id": "7aac7510-78d8-4d80-b258-042a8001c8a5"
   },
   "outputs": [],
   "source": [
    "qc_ccx = QuantumCircuit(3)\n",
    "qc_ccx.ccx(0,1,2)\n",
    "qc_ccx.draw(output='mpl')"
   ]
  },
  {
   "cell_type": "markdown",
   "id": "e001afb5-3c38-40ad-8fb7-6627f87483f5",
   "metadata": {
    "id": "e001afb5-3c38-40ad-8fb7-6627f87483f5",
    "tags": []
   },
   "source": [
    "## 2. Measurement & Qiskit primitives\n",
    "\n",
    "The primitives are computational building blocks to be used in larger applications whose input units, called primitive unified blocs (PUBs), require quantum resources to efficiently produce outputs for."
   ]
  },
  {
   "cell_type": "markdown",
   "id": "afec1928-ddd3-4ea2-aa76-1ec99d194e11",
   "metadata": {
    "id": "afec1928-ddd3-4ea2-aa76-1ec99d194e11"
   },
   "source": [
    "### 2.0 Measurement\n",
    "On a quantum circuit, a measurement is represented by a measurement meter. Upon measurement, the quantum state collapse to a classical state.\n"
   ]
  },
  {
   "cell_type": "code",
   "execution_count": null,
   "id": "4fbe2d2d-f591-4977-af81-9265ce3bf562",
   "metadata": {
    "id": "4fbe2d2d-f591-4977-af81-9265ce3bf562"
   },
   "outputs": [],
   "source": [
    "# use measure_all() to measure all qubits\n",
    "qcm1 = QuantumCircuit(2)\n",
    "qcm1.x(0)\n",
    "# map qubits to classical bits\n",
    "qcm1.measure_all()\n",
    "qcm1.draw(output='mpl') # draw the circuit"
   ]
  },
  {
   "cell_type": "code",
   "execution_count": null,
   "id": "54a118ec-6669-47d3-a0fa-29bbf81dd495",
   "metadata": {
    "id": "54a118ec-6669-47d3-a0fa-29bbf81dd495"
   },
   "outputs": [],
   "source": [
    "# use measure() to measure specific qubits\n",
    "qcm2 = QuantumCircuit(2,2) # Create a quantum circuit with 2 qubits and 2 classical bits\n",
    "qcm2.x(0) # Apply an X gate to the 0-th qubit\n",
    "# map qubits to classical bits\n",
    "qcm2.measure([0,1],[0,1])\n",
    "# qcm2.measure([0],[0])\n",
    "qcm2.draw(output='mpl') # draw the circuit"
   ]
  },
  {
   "cell_type": "markdown",
   "id": "c21187ed-442d-4d4c-bf98-2d85e2c1a908",
   "metadata": {
    "id": "c21187ed-442d-4d4c-bf98-2d85e2c1a908"
   },
   "source": [
    "### 2.1 Sampler\n",
    "Sampler runs quantum circuits and returns probability distributions.\n",
    "\n",
    "class qiskit.primitives.StatevectorSampler(*, default_shots=1024, seed=None)\n",
    "\n",
    "Parameters:\n",
    "\n",
    "- pubs (Iterable) – An iterable of pub-like objects. For example, a list of circuits or tuples (circuit, parameter_values).\n",
    "- shots (int | None) – The total number of shots to sample for each sampler pub that does not specify its own shots. If None, the primitive’s default shots value will be used, which can vary by implementation.\n"
   ]
  },
  {
   "cell_type": "code",
   "execution_count": null,
   "id": "f48615bc-4161-487a-9713-1c5085740b6b",
   "metadata": {
    "id": "f48615bc-4161-487a-9713-1c5085740b6b"
   },
   "outputs": [],
   "source": [
    "# Let's get the result by running the circuits we build in Sec. 2.0\n",
    "# qcm1\n",
    "# from qiskit.primitives import StatevectorSampler\n",
    "\n",
    "shots = 8092\n",
    "sampler = StatevectorSampler()\n",
    "job = sampler.run([qcm1], shots=shots)\n",
    "\n",
    "# meas\n",
    "counts = job.result()[0].data.meas.get_counts()\n",
    "\n",
    "print(f\"Measurement result of qcm1: {counts}\")"
   ]
  },
  {
   "cell_type": "code",
   "execution_count": null,
   "id": "0b786380-0d48-4f98-9d46-b4c185c13681",
   "metadata": {
    "id": "0b786380-0d48-4f98-9d46-b4c185c13681"
   },
   "outputs": [],
   "source": [
    "# Let's get the result by running the circuits we build in Sec. 2.0\n",
    "# qcm2\n",
    "# from qiskit.primitives import StatevectorSampler\n",
    "\n",
    "shots = 8092\n",
    "sampler = StatevectorSampler()\n",
    "job = sampler.run([qcm2], shots=shots)\n",
    "\n",
    "# c\n",
    "counts = job.result()[0].data.c.get_counts()\n",
    "\n",
    "print(f\"Measurement result of qcm2: {counts}\")"
   ]
  },
  {
   "cell_type": "markdown",
   "id": "210534c6-d760-48b2-b65f-0be0b72a3148",
   "metadata": {
    "id": "210534c6-d760-48b2-b65f-0be0b72a3148"
   },
   "source": [
    "Plot a histogram of the counts:"
   ]
  },
  {
   "cell_type": "code",
   "execution_count": null,
   "id": "1311c283-6509-4881-b068-232e748b1597",
   "metadata": {
    "id": "1311c283-6509-4881-b068-232e748b1597"
   },
   "outputs": [],
   "source": [
    "plot_histogram(counts)"
   ]
  },
  {
   "cell_type": "markdown",
   "id": "671bf64b-2c9e-479d-a4ee-7d61d652b006",
   "metadata": {
    "id": "671bf64b-2c9e-479d-a4ee-7d61d652b006"
   },
   "source": [
    "<div class=\"alert alert-block alert-success\">\n",
    "\n",
    "**Q2.1.1 Measure a two-qubit state**  \n",
    "Apply measurement to the circuit qc_pp that we have constructed in Q1.3.3, i.e., CNOT operating on  $|+\\rangle|+\\rangle$. Then use sampler to get the state distribution, and plot the counts.\n",
    "</div>"
   ]
  },
  {
   "cell_type": "code",
   "execution_count": null,
   "id": "976c3e8d-4b59-410e-81db-ee74575360ad",
   "metadata": {
    "id": "976c3e8d-4b59-410e-81db-ee74575360ad"
   },
   "outputs": [],
   "source": [
    "qc_pp = QuantumCircuit(2)\n",
    "qc_pp.h(0)\n",
    "qc_pp.h(1)\n",
    "qc_pp.cx(0,1)\n",
    "##### ==================================\n",
    "# Write your solution in here.\n",
    "\n",
    "\n",
    "##### ==================================\n",
    "qc_pp.draw(output='mpl')"
   ]
  },
  {
   "cell_type": "code",
   "execution_count": null,
   "id": "92a22c85-679b-4e6d-b1ed-9be900b4881d",
   "metadata": {
    "id": "92a22c85-679b-4e6d-b1ed-9be900b4881d"
   },
   "outputs": [],
   "source": [
    "# use sampler to sample the state distribution\n",
    "\n",
    "sampler = StatevectorSampler()\n",
    "shots = 1024\n",
    "##### ==================================\n",
    "# Write your solution in here.\n",
    "\n",
    "\n",
    "##### ==================================\n",
    "\n",
    "print(f\"Measurement result of qc_pp: {counts}\")"
   ]
  },
  {
   "cell_type": "markdown",
   "id": "9ccdadf1-2134-490b-8781-02d24bc8a4a0",
   "metadata": {
    "id": "9ccdadf1-2134-490b-8781-02d24bc8a4a0"
   },
   "source": [
    "Plot the results into a histogram:"
   ]
  },
  {
   "cell_type": "code",
   "execution_count": null,
   "id": "3b8f567b-0352-4eca-97cb-06ecaa6bf862",
   "metadata": {
    "id": "3b8f567b-0352-4eca-97cb-06ecaa6bf862"
   },
   "outputs": [],
   "source": [
    "plot_histogram(counts)"
   ]
  },
  {
   "cell_type": "markdown",
   "id": "8e43903a-3b84-438d-ac2b-5dd6ffe1eaa8",
   "metadata": {
    "id": "8e43903a-3b84-438d-ac2b-5dd6ffe1eaa8"
   },
   "source": [
    "Observe what happens to the result when you:\n",
    "\n",
    "(1) rerun the same code with the sampler;\n",
    "\n",
    "(2) increase the number of shots."
   ]
  },
  {
   "cell_type": "markdown",
   "id": "4597d538-b6d3-4dc9-bdd9-dfe2b98f770a",
   "metadata": {
    "id": "4597d538-b6d3-4dc9-bdd9-dfe2b98f770a"
   },
   "source": [
    "### 2.2 Estimator\n",
    "Estimator computes expectation values of observables.\n",
    "\n",
    "class qiskit.primitives.StatevectorEstimator(*, default_precision=0.0, seed=None)\n",
    "\n",
    "Parameters:\n",
    "\n",
    "- default_precision (float) – The default precision for the estimator if not specified during run.\n",
    "- seed (np.random.Generator | int | None) – The seed or Generator object for random number generation. If None, a random seeded default RNG will be used."
   ]
  },
  {
   "cell_type": "code",
   "execution_count": null,
   "id": "1c9ec3b1-e759-4c5a-a444-0238e2dbd15b",
   "metadata": {
    "id": "1c9ec3b1-e759-4c5a-a444-0238e2dbd15b"
   },
   "outputs": [],
   "source": [
    "# Recall the simple circuit we built with an X-gate\n",
    "qcx = QuantumCircuit(1) # Create a quantum circuit with 1 qubit\n",
    "qcx.x(0) # Apply an X gate to the 0-th qubit\n",
    "qcx.draw(output='mpl') # draw the circuit"
   ]
  },
  {
   "cell_type": "markdown",
   "id": "ffa53206-6529-4fd0-8d5d-c07cd01590f9",
   "metadata": {
    "id": "ffa53206-6529-4fd0-8d5d-c07cd01590f9"
   },
   "source": [
    "Let's evaluate the expectation value of the final state. Note that the quantum state is NOT measured before applying the estimator."
   ]
  },
  {
   "cell_type": "code",
   "execution_count": null,
   "id": "90f99bbc-d278-45c7-9826-6088966eada5",
   "metadata": {
    "id": "90f99bbc-d278-45c7-9826-6088966eada5"
   },
   "outputs": [],
   "source": [
    "# from qiskit.primitives import StatevectorEstimator\n",
    "\n",
    "estimator = StatevectorEstimator()\n",
    "observables = [Pauli(\"I\")]\n",
    "pub = (qcx, observables)\n",
    "result = estimator.run([pub]).result()\n",
    "expectation_values = result[0].data.evs\n",
    "\n",
    "print(f\"Expectation value for {observables[0]} of qcx: {expectation_values[0]}\")"
   ]
  },
  {
   "cell_type": "code",
   "execution_count": null,
   "id": "96bbbd94-849d-4485-ab1e-dcf58481fff4",
   "metadata": {
    "id": "96bbbd94-849d-4485-ab1e-dcf58481fff4"
   },
   "outputs": [],
   "source": [
    "# from qiskit.primitives import StatevectorEstimator\n",
    "circuit2 = QuantumCircuit(1)\n",
    "circuit2.h(0)\n",
    "\n",
    "# Instantiate a new statevector simulation based estimator object.\n",
    "estimator = StatevectorEstimator()\n",
    "observables = [Pauli(\"I\"), Pauli(\"X\"), Pauli(\"Y\"), Pauli(\"Z\")]\n",
    "pub = (circuit2, observables)\n",
    "result = estimator.run([pub]).result()\n",
    "# res = result[0].data.evs[0]\n",
    "# res_val = float(res)\n",
    "\n",
    "# Access the expectation values correctly\n",
    "expectation_values = result[0].data.evs # Access the values directly\n",
    "\n",
    "# Print the expectation values for each observable\n",
    "for i, observable in enumerate(observables):\n",
    "    print(f\"Expectation value for {observable}: {expectation_values[i]}\")"
   ]
  },
  {
   "cell_type": "markdown",
   "id": "db31d702-3f04-4b80-a045-5ef32674ef0d",
   "metadata": {
    "id": "db31d702-3f04-4b80-a045-5ef32674ef0d"
   },
   "source": [
    "<div class=\"alert alert-block alert-success\">\n",
    "\n",
    "**Q2.2.1 Differentiate the $|+\\rangle|$ and $-\\rangle$ states by measurement**  \n",
    "You have already constructed the two states in Q1.2.6 and Q1.2.7. Let us now measure the probability distribution for each of two. Are you able to differentiate the two from the distribution, and why?\n",
    "\n",
    "Can you use a Pauli gate as an observable to differentiate the two from each other? Which Pauli gate would work? Use estimator to verify your answer.\n",
    "</div>"
   ]
  },
  {
   "cell_type": "code",
   "execution_count": null,
   "id": "a7ebe760-5a81-4ce9-8127-411075c1ec7f",
   "metadata": {
    "id": "a7ebe760-5a81-4ce9-8127-411075c1ec7f"
   },
   "outputs": [],
   "source": [
    "# Measure the |+> state with sampler\n",
    "qch = QuantumCircuit(1) # Create a quantum circuit with 1 qubit\n",
    "##### ==================================\n",
    "# Write your solution in here.\n",
    "\n",
    "\n",
    "##### ==================================\n",
    "plot_histogram(counts)"
   ]
  },
  {
   "cell_type": "code",
   "execution_count": null,
   "id": "ad456ebe-9641-4f93-baa6-d52ea91ca9b2",
   "metadata": {
    "id": "ad456ebe-9641-4f93-baa6-d52ea91ca9b2",
    "scrolled": true
   },
   "outputs": [],
   "source": [
    "# Measure the |-> state with sampler\n",
    "qchm = QuantumCircuit(1) # Create a quantum circuit with 1 qubit\n",
    "##### ==================================\n",
    "# Write your solution in here.\n",
    "\n",
    "\n",
    "##### ==================================\n",
    "plot_histogram(counts)"
   ]
  },
  {
   "cell_type": "code",
   "execution_count": null,
   "id": "4d595745-2744-47f0-ac07-7daff1c49250",
   "metadata": {
    "id": "4d595745-2744-47f0-ac07-7daff1c49250"
   },
   "outputs": [],
   "source": [
    "# Measure the <+|Pauli|+> with estimator, replace Pauli with the Pauli gate that you choose\n",
    "qch = QuantumCircuit(1) # Create a quantum circuit with 1 qubit\n",
    "##### ==================================\n",
    "# Write your solution in here.\n",
    "\n",
    "\n",
    "##### ==================================\n",
    "print(f\"Expectation value for {observables[0]} of |+>: {expectation_values[0]}\")\n"
   ]
  },
  {
   "cell_type": "code",
   "execution_count": null,
   "id": "5e03d751-eedb-4984-a63f-35cc95dafad6",
   "metadata": {
    "id": "5e03d751-eedb-4984-a63f-35cc95dafad6"
   },
   "outputs": [],
   "source": [
    "# Measure the <-|Pauli|-> with estimator, replace Pauli with the Pauli gate that you choose\n",
    "qchm = QuantumCircuit(1) # Create a quantum circuit with 1 qubit\n",
    "##### ==================================\n",
    "# Write your solution in here.\n",
    "\n",
    "\n",
    "##### ==================================\n",
    "print(f\"Expectation value for {observables[0]} of |->: {expectation_values[0]}\")"
   ]
  },
  {
   "cell_type": "markdown",
   "id": "1a9cb393-e1c2-42b7-ad62-da70884927e5",
   "metadata": {
    "id": "1a9cb393-e1c2-42b7-ad62-da70884927e5"
   },
   "source": [
    "## 3. Quantum Algorithms"
   ]
  },
  {
   "cell_type": "markdown",
   "id": "d48108d7-a67a-4b46-8d63-5b2c89d6f910",
   "metadata": {
    "id": "d48108d7-a67a-4b46-8d63-5b2c89d6f910",
    "tags": []
   },
   "source": [
    "### 3.1 The Bell states\n",
    "[Adapted from Juan Santos Suárez's notebook]\n",
    "\n",
    "The Bell states or EPR pairs are specific quantum states of two qubits that represent the simplest examples of quantum entanglement. There are four of them:\n",
    "\n",
    "$$|\\phi^+\\rangle = \\frac{1}{\\sqrt{2}}\\left(|00\\rangle+|11\\rangle\\right),$$\n",
    "$$|\\phi^-\\rangle = \\frac{1}{\\sqrt{2}}\\left(|00\\rangle-|11\\rangle\\right),$$\n",
    "$$|\\psi^+\\rangle = \\frac{1}{\\sqrt{2}}\\left(|01\\rangle+|10\\rangle\\right),$$\n",
    "$$|\\psi^-\\rangle = \\frac{1}{\\sqrt{2}}\\left(|01\\rangle-|10\\rangle\\right).$$\n",
    "\n"
   ]
  },
  {
   "cell_type": "code",
   "execution_count": null,
   "id": "90f9da9b-ebcd-4449-987e-c157ea491ad6",
   "metadata": {
    "id": "90f9da9b-ebcd-4449-987e-c157ea491ad6"
   },
   "outputs": [],
   "source": [
    "# the first state can be created by the following circuit\n",
    "qc_phi_plus = QuantumCircuit(2)\n",
    "qc_phi_plus.h(0)\n",
    "qc_phi_plus.cx(0, 1)\n",
    "qc_phi_plus.draw('mpl')"
   ]
  },
  {
   "cell_type": "code",
   "execution_count": null,
   "id": "7f617862-c436-4177-8da3-6385b3ed46ad",
   "metadata": {
    "id": "7f617862-c436-4177-8da3-6385b3ed46ad"
   },
   "outputs": [],
   "source": [
    "# Let's see the result\n",
    "# from qiskit.quantum_info import Statevector\n",
    "\n",
    "state = Statevector(qc_phi_plus)\n",
    "\n",
    "# Note: Qiskit numbers the bits in a string from right to left.\n",
    "state.draw('latex', max_size=16)"
   ]
  },
  {
   "cell_type": "markdown",
   "id": "c8e7192a-0bb4-42e8-9ba2-622b37f0603d",
   "metadata": {
    "id": "c8e7192a-0bb4-42e8-9ba2-622b37f0603d"
   },
   "source": [
    "<div class=\"alert alert-block alert-success\">\n",
    "\n",
    "**Q3.1.1 Build a circuit that prepares the state $|\\phi^-\\rangle$**  \n",
    "\n",
    "</div>"
   ]
  },
  {
   "cell_type": "code",
   "execution_count": null,
   "id": "ece9bb13-2076-439a-be28-e20b1697091d",
   "metadata": {
    "id": "ece9bb13-2076-439a-be28-e20b1697091d"
   },
   "outputs": [],
   "source": [
    "qc_phi_minus = QuantumCircuit(2)\n",
    "\n",
    "##### ==================================\n",
    "# Write your solution in here.\n",
    "\n",
    "\n",
    "##### ==================================\n",
    "\n",
    "qc_phi_minus.draw('mpl')"
   ]
  },
  {
   "cell_type": "code",
   "execution_count": null,
   "id": "bacc29eb-28d3-47d0-822c-26a2f7a1fafd",
   "metadata": {
    "id": "bacc29eb-28d3-47d0-822c-26a2f7a1fafd"
   },
   "outputs": [],
   "source": [
    "# Let's see the result\n",
    "# from qiskit.quantum_info import Statevector\n",
    "\n",
    "state = Statevector(qc_phi_minus)\n",
    "\n",
    "# Note: Qiskit numbers the bits in a string from right to left.\n",
    "state.draw('latex', max_size=16)"
   ]
  },
  {
   "cell_type": "markdown",
   "id": "a104d54a-af31-477a-aafa-764ddee87a87",
   "metadata": {
    "id": "a104d54a-af31-477a-aafa-764ddee87a87"
   },
   "source": [
    "<div class=\"alert alert-block alert-success\">\n",
    "\n",
    "**Q3.1.2 Build a circuit that prepares the state $|\\psi^+\\rangle$**  \n",
    "\n",
    "</div>"
   ]
  },
  {
   "cell_type": "code",
   "execution_count": null,
   "id": "14777d72-ce80-4fed-9b7a-1e64ffeb36c7",
   "metadata": {
    "id": "14777d72-ce80-4fed-9b7a-1e64ffeb36c7"
   },
   "outputs": [],
   "source": [
    "qc_psi_plus = QuantumCircuit(2)\n",
    "\n",
    "##### ==================================\n",
    "# Write your solution in here.\n",
    "\n",
    "\n",
    "\n",
    "##### ==================================\n",
    "\n",
    "qc_psi_plus.draw('mpl')"
   ]
  },
  {
   "cell_type": "code",
   "execution_count": null,
   "id": "ddb7e1c0-ef14-4d58-b092-1e42df1308e8",
   "metadata": {
    "id": "ddb7e1c0-ef14-4d58-b092-1e42df1308e8"
   },
   "outputs": [],
   "source": [
    "# Let's see the result\n",
    "# from qiskit.quantum_info import Statevector\n",
    "\n",
    "state = Statevector(qc_psi_plus)\n",
    "\n",
    "# Note: Qiskit numbers the bits in a string from right to left.\n",
    "state.draw('latex', max_size=16)"
   ]
  },
  {
   "cell_type": "markdown",
   "id": "2fa8e3a2-1534-4409-bd82-ce26331eafa7",
   "metadata": {
    "id": "2fa8e3a2-1534-4409-bd82-ce26331eafa7"
   },
   "source": [
    "<div class=\"alert alert-block alert-success\">\n",
    "\n",
    "**Q3.1.3 Build a circuit that prepares the state $|\\psi^-\\rangle$**  \n",
    "\n",
    "</div>"
   ]
  },
  {
   "cell_type": "code",
   "execution_count": null,
   "id": "d9c28a83-84b1-4b33-b26d-ae899dacfa77",
   "metadata": {
    "id": "d9c28a83-84b1-4b33-b26d-ae899dacfa77"
   },
   "outputs": [],
   "source": [
    "qc_psi_minus = QuantumCircuit(2)\n",
    "\n",
    "##### ==================================\n",
    "# Write your solution in here.\n",
    "\n",
    "\n",
    "\n",
    "##### ==================================\n",
    "\n",
    "qc_psi_minus.draw('mpl')"
   ]
  },
  {
   "cell_type": "code",
   "execution_count": null,
   "id": "0d2491d0-f466-4a3e-b6de-7874f0988afd",
   "metadata": {
    "id": "0d2491d0-f466-4a3e-b6de-7874f0988afd"
   },
   "outputs": [],
   "source": [
    "# Let's see the result\n",
    "# from qiskit.quantum_info import Statevector\n",
    "\n",
    "state = Statevector(qc_psi_minus)\n",
    "\n",
    "# Note: Qiskit numbers the bits in a string from right to left.\n",
    "state.draw('latex', max_size=16)"
   ]
  },
  {
   "cell_type": "markdown",
   "id": "45767417-a4d1-48c7-a29c-17e7538732bd",
   "metadata": {
    "id": "45767417-a4d1-48c7-a29c-17e7538732bd"
   },
   "source": [
    "These type of maximally entangled states can be generalized to systems with $n$ qubits, which are then called the Greenberger–Horne–Zeilinger (GHZ) states.\n",
    "$$|\\text{GHZ}\\rangle_n = \\frac{1}{\\sqrt{2}}\\left(|0\\rangle^{\\otimes n} + |1\\rangle^{\\otimes n}\\right).$$\n"
   ]
  },
  {
   "cell_type": "markdown",
   "id": "bee2c014-19cc-42d6-a89b-951c23928e27",
   "metadata": {
    "id": "bee2c014-19cc-42d6-a89b-951c23928e27"
   },
   "source": [
    "<div class=\"alert alert-block alert-success\">\n",
    "\n",
    "**Q3.1.4 Build a circuit that prepares the state $|\\text{GHZ}\\rangle_3$ (optional)**\n",
    "\n",
    "$$|\\text{GHZ}\\rangle_3 = \\frac{1}{\\sqrt{2}}\\left(|000\\rangle + |111\\rangle\\right)$$"
   ]
  },
  {
   "cell_type": "code",
   "execution_count": null,
   "id": "7fd34ea8-05b3-4e8b-9596-868ff0f6fd98",
   "metadata": {
    "id": "7fd34ea8-05b3-4e8b-9596-868ff0f6fd98"
   },
   "outputs": [],
   "source": [
    "qc_GHZ = QuantumCircuit(3)\n",
    "\n",
    "##### ==================================\n",
    "# Write your solution in here.\n",
    "\n",
    "\n",
    "##### ==================================\n",
    "\n",
    "qc_GHZ.draw('mpl')"
   ]
  },
  {
   "cell_type": "code",
   "execution_count": null,
   "id": "cc7fda4e-2841-43d0-8446-4c1634a39f18",
   "metadata": {
    "id": "cc7fda4e-2841-43d0-8446-4c1634a39f18"
   },
   "outputs": [],
   "source": [
    "# Let's see the result\n",
    "# from qiskit.quantum_info import Statevector\n",
    "\n",
    "state = Statevector(qc_GHZ)\n",
    "\n",
    "# Note: Qiskit numbers the bits in a string from right to left.\n",
    "state.draw('latex', max_size=16)"
   ]
  },
  {
   "cell_type": "markdown",
   "id": "6f432c77-65b5-4142-a96c-30b95856c3fd",
   "metadata": {
    "id": "6f432c77-65b5-4142-a96c-30b95856c3fd",
    "tags": []
   },
   "source": [
    "### 3.2 Addition on Quantum Circuit\n",
    "[Adapted from Wenyang Qian's notebook]"
   ]
  },
  {
   "cell_type": "markdown",
   "id": "20c23de7-507c-4544-aa4e-043972d8e746",
   "metadata": {
    "id": "20c23de7-507c-4544-aa4e-043972d8e746"
   },
   "source": [
    "#### 3.2.1 Classical Addition on Quantum Circuit"
   ]
  },
  {
   "cell_type": "markdown",
   "id": "c4c9592b-e844-477b-97bb-42911f391c49",
   "metadata": {
    "id": "c4c9592b-e844-477b-97bb-42911f391c49"
   },
   "source": [
    "Addition is one of the oldest computation and it has many implementations. In the classical computer, the integers are represented as binary numbers (or bit strings). For example,\n",
    "\n",
    "$ 2 = 10 $   \n",
    "$ 5 = 101 $   \n",
    "$ 10 = 1010 $   \n",
    "\n",
    "By encoding integers as sequence of 0s and 1s, it makes a perfect application in quantum computing. In this exercise, we will look at the implementation of classical addition on the quantum circuit. In particular, we consider two nonnegative integers $a$ and $b$, whose values can be either 0 or 1.\n",
    "\n",
    "On the quantum circuit, we can represent them as quantum states $|a\\rangle$ and $|b\\rangle$, and build a two-qubit circuit for quantum addition."
   ]
  },
  {
   "cell_type": "markdown",
   "id": "1fc34665-a1a7-4f24-b3ce-c0ee8334241a",
   "metadata": {
    "id": "1fc34665-a1a7-4f24-b3ce-c0ee8334241a"
   },
   "source": [
    "$$\n",
    "\\begin{array}{c}\n",
    "\\Large |q_0 = a\\rangle \\\\\n",
    "\\\\\n",
    "\\Large|q_1 = b\\rangle \\\\\n",
    "\\end{array}\n",
    "\\qquad\n",
    "\\begin{array}{c}\n",
    "\\rule{3cm}{1pt} \\\\ % Top line\n",
    "\\\\\n",
    "\\rule{3cm}{1pt} % Bottom line\n",
    "\\end{array}\n",
    "\\qquad\n",
    "\\begin{array}{c}\n",
    "\\Large|a\\rangle \\\\\n",
    "\\\\\n",
    "\\Large|a+b\\rangle\n",
    "\\end{array}\n",
    "$$"
   ]
  },
  {
   "cell_type": "markdown",
   "id": "0117f20d-3e28-49de-9dae-ae5c9dbf47de",
   "metadata": {
    "id": "0117f20d-3e28-49de-9dae-ae5c9dbf47de"
   },
   "source": [
    "<div class=\"alert alert-block alert-success\">\n",
    "\n",
    "**Q3.2.1 Build your integer encoding function**  \n",
    "Before we build an addition algorithm, it is important to build an integer encoding function on the circuit. For simplicity, we restrict integers to either 0 or 1. The following function returns the quantum circuit with the encoded integer on the qubit specified by the qubit_index.\n",
    "</div>"
   ]
  },
  {
   "cell_type": "code",
   "execution_count": null,
   "id": "5cdbad7a-69e9-4d2f-bef8-a27794ebf9c3",
   "metadata": {
    "id": "5cdbad7a-69e9-4d2f-bef8-a27794ebf9c3"
   },
   "outputs": [],
   "source": [
    "def encode_integer(circuit, qubit_index, integer):\n",
    "    ##### ==================================\n",
    "    # Write your solution in here.\n",
    "\n",
    "\n",
    "    ##### ==================================\n",
    "    return circuit"
   ]
  },
  {
   "cell_type": "markdown",
   "id": "f3a1c0be-49fb-4a23-9a88-3f45eda575a5",
   "metadata": {
    "id": "f3a1c0be-49fb-4a23-9a88-3f45eda575a5"
   },
   "source": [
    "Binary addition follows the truth table as follows:\n",
    "| a        | b       | a+b     |\n",
    "|:--------:|:-------:|:-------:|\n",
    "| 0        |      0  |      0  |\n",
    "| 1        |      0  |      1  |\n",
    "| 0        |      1  |      1  |\n",
    "| 1        |      1  |      0  |\n",
    "This is actually a Modulo 2 Addition."
   ]
  },
  {
   "cell_type": "markdown",
   "id": "f77e8628-6265-4e33-9683-942a8dbc30fe",
   "metadata": {
    "id": "f77e8628-6265-4e33-9683-942a8dbc30fe"
   },
   "source": [
    "<div class=\"alert alert-block alert-success\">\n",
    "    \n",
    "**Q3.2.2 Build your classical addition algorithm on quantum circuit**  \n",
    "With the encoding function, we can now write the classical addition algorithm using quantum circuit. Use the gates that you learned in this notebook. Try different values of $a$ and $b$ and verify your algorithm.\n",
    "</div>"
   ]
  },
  {
   "cell_type": "code",
   "execution_count": null,
   "id": "ce5053e2-7a42-4fcb-a9f3-55c0d4d39365",
   "metadata": {
    "id": "ce5053e2-7a42-4fcb-a9f3-55c0d4d39365"
   },
   "outputs": [],
   "source": [
    "def classical_add(a, b):\n",
    "    assert a in [0, 1]\n",
    "    assert b in [0, 1]\n",
    "    circuit = QuantumCircuit(2)\n",
    "    ##### ==================================\n",
    "    # Write your solution in here.\n",
    "\n",
    "\n",
    "    ##### ==================================\n",
    "    return circuit\n"
   ]
  },
  {
   "cell_type": "code",
   "execution_count": null,
   "id": "bf2869c4-e4af-4bf5-b0a5-32d56760486d",
   "metadata": {
    "id": "bf2869c4-e4af-4bf5-b0a5-32d56760486d"
   },
   "outputs": [],
   "source": [
    "# You may want to the following code to test your results\n",
    "# from qiskit.quantum_info import Statevector\n",
    "# from IPython.display import display, Latex\n",
    "\n",
    "a=0\n",
    "b=1\n",
    "this_circ = classical_add(a, b)\n",
    "state = Statevector(this_circ)\n",
    "\n",
    "# Note: Qiskit numbers the bits in a string from right to left.\n",
    "display(Latex(f'$|ba\\\\rangle \\\\to |(a+b)a\\\\rangle$'))\n",
    "display(Latex(f'Initial: $|ba\\\\rangle =|{b}{a}\\\\rangle$'))\n",
    "display(Latex(f'Final: $|(a+b)a\\\\rangle=$'))\n",
    "state.draw('latex', max_size=16)"
   ]
  },
  {
   "cell_type": "markdown",
   "id": "438bf857-5fe8-4bb8-b67c-84f728ff5ae6",
   "metadata": {
    "id": "438bf857-5fe8-4bb8-b67c-84f728ff5ae6"
   },
   "source": [
    "Next, let us do addition with a \"carry\":\n",
    "\n",
    "$s = (a+b)+carry$\n",
    "\n",
    "We would need in this case three qubits,"
   ]
  },
  {
   "cell_type": "markdown",
   "id": "2e35c69e-faf7-44c8-a60a-8b91ab7013b4",
   "metadata": {
    "id": "2e35c69e-faf7-44c8-a60a-8b91ab7013b4"
   },
   "source": [
    "$$\n",
    "\\begin{array}{c}\n",
    "\\Large |q_0 = \\text{carry}\\rangle \\\\\n",
    "\\\\\n",
    "\\Large |q_1 = a\\rangle \\\\\n",
    "\\\\\n",
    "\\Large|q_2 = b\\rangle \\\\\n",
    "\\end{array}\n",
    "\\qquad\n",
    "\\begin{array}{c}\n",
    "\\rule{3cm}{1pt} \\\\ % Top line\n",
    "\\\\\n",
    "\\rule{3cm}{1pt} \\\\ % Top line\n",
    "\\\\\n",
    "\\rule{3cm}{1pt} % Bottom line\n",
    "\\end{array}\n",
    "\\qquad\n",
    "\\begin{array}{c}\n",
    "\\Large |\\text{carry}\\rangle \\\\\n",
    "\\\\\n",
    "\\Large|a\\rangle \\\\\n",
    "\\\\\n",
    "\\Large|a+b+\\text{carry}\\rangle\n",
    "\\end{array}\n",
    "$$"
   ]
  },
  {
   "cell_type": "markdown",
   "id": "2f69f169-3a56-4bd5-b129-93fb389501a4",
   "metadata": {
    "id": "2f69f169-3a56-4bd5-b129-93fb389501a4"
   },
   "source": [
    "<div class=\"alert alert-block alert-success\">\n",
    "\n",
    "**Q3.2.3 Building your classical addition algorithm with carry**  \n",
    "    \n",
    "Now build your classical addition algorithm with carry. Check that your algorithm works for any combination of $a,b,carry=0,1$.\n",
    "</div>"
   ]
  },
  {
   "cell_type": "code",
   "execution_count": null,
   "id": "aa0a290b-01c6-4e92-a673-886966425675",
   "metadata": {
    "id": "aa0a290b-01c6-4e92-a673-886966425675"
   },
   "outputs": [],
   "source": [
    "def classical_add_with_carry(a, b, carry):\n",
    "    assert a in [0, 1]\n",
    "    assert b in [0, 1]\n",
    "    assert carry in [0, 1]\n",
    "    circuit = QuantumCircuit(3)\n",
    "    ##### ==================================\n",
    "    # Write your solution in here.\n",
    "\n",
    "\n",
    "    ##### ==================================\n",
    "    return circuit"
   ]
  },
  {
   "cell_type": "code",
   "execution_count": null,
   "id": "ac365146-4338-4528-89de-460f13127818",
   "metadata": {
    "id": "ac365146-4338-4528-89de-460f13127818"
   },
   "outputs": [],
   "source": [
    "# You may want to the following code to test your results\n",
    "# from qiskit.quantum_info import Statevector\n",
    "# from IPython.display import display, Latex\n",
    "\n",
    "a=1\n",
    "b=1\n",
    "carry=1\n",
    "this_circ = classical_add_with_carry(a, b, carry)\n",
    "state = Statevector(this_circ)\n",
    "\n",
    "# Note: Qiskit numbers the bits in a string from right to left.\n",
    "display(Latex(f'$|bac\\\\rangle \\\\to |(a+b+c)ac\\\\rangle$'))\n",
    "display(Latex(f'Initial: $|bac\\\\rangle =|{b}{a}{carry}\\\\rangle$'))\n",
    "display(Latex(f'Final: $|(a+b+c)ac\\\\rangle=$'))\n",
    "state.draw('latex', max_size=16)"
   ]
  },
  {
   "cell_type": "markdown",
   "id": "0035dcdc-fc6a-4f9c-bd3f-37be8fd9a2d1",
   "metadata": {
    "id": "0035dcdc-fc6a-4f9c-bd3f-37be8fd9a2d1"
   },
   "source": [
    "#### 3.2.2 Quantum Addition on Quantum Circuit\n",
    "In case you may have wondered, we have used the word \"Classical addition\" throughout Section 3.2. It is because we have treated quantum addition in the classical way. In quantum arithmetic world, researchers found that it is more efficient to encode binary bits as relative quantum phases, i.e., in the transverse plane (the x-y plane) of the Bloch sphere. In this way, addition of integer is converted to addition of phases where carries can be managed much more conveniently. Quantum addition also allows for circuit parallelization and approximation that is crucial when the problem size increases.\n",
    "\n",
    "In the following exercise, we will look at the quantum addition algorithm applied to two 1-bit integers $a$ and $b$ as before.\n",
    "\n",
    "The algorithm is divided into three parts:\n",
    "\n",
    "(i) Quantum phase encoding   \n",
    "(ii) Phase addition   \n",
    "(iii) Quantum phase decoding   \n"
   ]
  },
  {
   "cell_type": "markdown",
   "id": "22d422f1-144a-4d02-bdc4-ba1d906d6b04",
   "metadata": {
    "id": "22d422f1-144a-4d02-bdc4-ba1d906d6b04"
   },
   "source": [
    "$$\n",
    "\\begin{array}{c}\n",
    "\\\\\n",
    "\\Large |q_0 = a\\rangle \\\\\n",
    "\\\\\n",
    "\\Large|q_1 = b\\rangle \\\\\n",
    "\\end{array}\n",
    "\\qquad\n",
    "\\begin{array}{c}\n",
    "\\text{Phase Encoding}\\\\\n",
    "\\rule{3cm}{1pt} \\\\ % Top line\n",
    "\\\\\n",
    "\\rule{3cm}{1pt} % Bottom line\n",
    "\\end{array}\n",
    "\\qquad\n",
    "\\begin{array}{c}\n",
    "\\\\\n",
    "\\Large | a\\rangle \\\\\n",
    "\\\\\n",
    "\\Large| \\phi(b)\\rangle \\\\\n",
    "\\end{array}\n",
    "\\qquad\n",
    "\\begin{array}{c}\n",
    "\\text{Phase Addition}\\\\\n",
    "\\rule{3cm}{1pt} \\\\ % Top line\n",
    "\\\\\n",
    "\\rule{3cm}{1pt} % Bottom line\n",
    "\\end{array}\n",
    "\\qquad\n",
    "\\begin{array}{c}\n",
    "\\\\\n",
    "\\Large |a\\rangle \\\\\n",
    "\\\\\n",
    "\\Large|\\phi(a+b)\\rangle \\\\\n",
    "\\end{array}\n",
    "\\qquad\n",
    "\\begin{array}{c}\n",
    "\\text{Phase Decoding}\\\\\n",
    "\\rule{3cm}{1pt} \\\\ % Top line\n",
    "\\\\\n",
    "\\rule{3cm}{1pt} % Bottom line\n",
    "\\end{array}\n",
    "\\qquad\n",
    "\\begin{array}{c}\n",
    "\\Large|a\\rangle \\\\\n",
    "\\\\\n",
    "\\Large|a+b\\rangle\n",
    "\\end{array}\n",
    "$$"
   ]
  },
  {
   "cell_type": "markdown",
   "id": "c685bc88-5f3b-4df3-a450-e83d4b2e2060",
   "metadata": {
    "id": "c685bc88-5f3b-4df3-a450-e83d4b2e2060"
   },
   "source": [
    "<div class=\"alert alert-block alert-success\">\n",
    "\n",
    "**Q3.2.4 Build the single-qubit phase encoding function**  \n",
    "For the single qubit state $|b\\rangle$, we want to encode according to the mapping: $|0\\rangle \\rightarrow |+\\rangle$, $|1\\rangle \\rightarrow |-\\rangle$. What quantum gate or gates should you use to achieve this? Write your function below.\n",
    "</div>"
   ]
  },
  {
   "cell_type": "code",
   "execution_count": null,
   "id": "afc4f252-4730-40e6-8688-e63487171992",
   "metadata": {
    "id": "afc4f252-4730-40e6-8688-e63487171992"
   },
   "outputs": [],
   "source": [
    "def encode_integer_to_phase(circuit, qubit):\n",
    "    ##### ==================================\n",
    "    # Write your solution in here. Remember, before encoding to phases,\n",
    "\n",
    "\n",
    "    ##### ==================================\n",
    "    return circuit"
   ]
  },
  {
   "cell_type": "code",
   "execution_count": null,
   "id": "7b2774dd-911c-444e-93e6-061ab488d7c6",
   "metadata": {
    "id": "7b2774dd-911c-444e-93e6-061ab488d7c6"
   },
   "outputs": [],
   "source": [
    "# You may want to the following code to test your results\n",
    "a = 0; b = 0;\n",
    "this_circ = QuantumCircuit(2)\n",
    "this_circ = encode_integer(this_circ, 0, a)\n",
    "this_circ = encode_integer(this_circ, 1, b)\n",
    "this_circ = encode_integer_to_phase(this_circ, 1)\n",
    "state = Statevector(this_circ)\n",
    "# Note: Qiskit numbers the bits in a string from right to left.\n",
    "display(Latex(f'$|ba\\\\rangle \\\\to |\\\\phi(b)a\\\\rangle$'))\n",
    "display(Latex(f'Initial: $|ba\\\\rangle =|{b}{a}\\\\rangle$'))\n",
    "display(Latex(f'Final: $|\\phi(b)a\\\\rangle=$'))\n",
    "state.draw('latex', max_size=16)"
   ]
  },
  {
   "cell_type": "markdown",
   "id": "65f3ea80-cb7b-4495-9a60-c71dfe971608",
   "metadata": {
    "id": "65f3ea80-cb7b-4495-9a60-c71dfe971608"
   },
   "source": [
    "<div class=\"alert alert-block alert-success\">\n",
    "\n",
    "**Q3.2.5 Build the phase addition function**  \n",
    "Write a phase addition function to add the phase of incoming integer state $|a\\rangle$ to recipient state $|\\phi(b)\\rangle$.    \n",
    "</div>\n"
   ]
  },
  {
   "cell_type": "markdown",
   "id": "8725830e-4b75-4faf-a1e2-b0aca81dd5a6",
   "metadata": {
    "id": "8725830e-4b75-4faf-a1e2-b0aca81dd5a6"
   },
   "source": [
    "In the quantum phase addition part, we want to add the quantum phase of $|a\\rangle$ to $|\\phi(b)\\rangle$ without modifying the state $|a\\rangle$. As you can imagine, this type of operation is best achieved using a controlled gate. Speaking of quantum phases, the most intuitive gate to use is the controlled-phase gate or CP-gate. In Qiskit, you can use \"circuit.cp(theta, control_qubit, target_qubit)\" to apply a CP-gate with an angle of theta (in radians). Since the phase between $|+\\rangle$ and $|-\\rangle$ is $\\pi$, we should rotate an angle of $\\pi$, to make the addition on equal footing."
   ]
  },
  {
   "cell_type": "code",
   "execution_count": null,
   "id": "c7930839-f1cf-43b7-817f-8c6f30ca42c3",
   "metadata": {
    "id": "c7930839-f1cf-43b7-817f-8c6f30ca42c3"
   },
   "outputs": [],
   "source": [
    "# from math import pi\n",
    "def phase_addition(circuit, incoming_qubit, recipient_qubit):\n",
    "    ##### ==================================\n",
    "    # Write your solution in here.\n",
    "\n",
    "    ##### ==================================\n",
    "    return circuit"
   ]
  },
  {
   "cell_type": "code",
   "execution_count": null,
   "id": "c8b9afbf-c87d-443f-84ac-93a087417af4",
   "metadata": {
    "id": "c8b9afbf-c87d-443f-84ac-93a087417af4"
   },
   "outputs": [],
   "source": [
    "# You may want to the following code to test your results\n",
    "a = 1; b = 1;\n",
    "this_circ = QuantumCircuit(2)\n",
    "this_circ = encode_integer(this_circ, 0, a)\n",
    "this_circ = encode_integer(this_circ, 1, b)\n",
    "this_circ = encode_integer_to_phase(this_circ, 1)\n",
    "this_circ = phase_addition(this_circ, 0, 1)\n",
    "state = Statevector(this_circ)\n",
    "# Note: Qiskit numbers the bits in a string from right to left.\n",
    "display(Latex(f'$|ba\\\\rangle \\\\to |\\\\phi(a+b)a\\\\rangle$'))\n",
    "display(Latex(f'Initial: $|ba\\\\rangle =|{b}{a}\\\\rangle$'))\n",
    "display(Latex(f'Final: $|\\phi(a+b)a\\\\rangle=$'))\n",
    "state.draw('latex', max_size=16)"
   ]
  },
  {
   "cell_type": "markdown",
   "id": "da207e47-4a1a-4dc6-862c-50b970752c67",
   "metadata": {
    "id": "da207e47-4a1a-4dc6-862c-50b970752c67"
   },
   "source": [
    "<div class=\"alert alert-block alert-success\">\n",
    "\n",
    "**Q3.2.6 Build the phase decoding function**  \n",
    "Decoding in quantum computing is easy as all quantum operations are reversible. Write your phase decoding function, which is the reverse of your encoding function.\n",
    "</div>"
   ]
  },
  {
   "cell_type": "code",
   "execution_count": null,
   "id": "d9de08f9-1c38-48c8-ac47-a5efaae97970",
   "metadata": {
    "id": "d9de08f9-1c38-48c8-ac47-a5efaae97970"
   },
   "outputs": [],
   "source": [
    "def decode_phase_to_integer(circuit, qubit):\n",
    "    ##### ==================================\n",
    "    # Write your solution in here.\n",
    "\n",
    "    ##### ==================================\n",
    "    return circuit"
   ]
  },
  {
   "cell_type": "markdown",
   "id": "6e1bbcc9-5029-4723-9515-f10e6a42dacc",
   "metadata": {
    "id": "6e1bbcc9-5029-4723-9515-f10e6a42dacc"
   },
   "source": [
    "<div class=\"alert alert-block alert-success\">\n",
    "\n",
    "**Q3.2.7 Build the final quantum addition algorithm function**  \n",
    "Now, let's put the above three ingradients together.\n",
    "</div>"
   ]
  },
  {
   "cell_type": "code",
   "execution_count": null,
   "id": "35a48461-ae21-4607-90b3-547fc340261d",
   "metadata": {
    "id": "35a48461-ae21-4607-90b3-547fc340261d"
   },
   "outputs": [],
   "source": [
    "def quantum_add(a, b):\n",
    "    assert a in [0, 1]\n",
    "    assert b in [0, 1]\n",
    "    circuit = QuantumCircuit(2)\n",
    "    ##### ==================================\n",
    "    # Write your solution in here.\n",
    "\n",
    "\n",
    "    ##### ==================================\n",
    "    return circuit\n"
   ]
  },
  {
   "cell_type": "code",
   "execution_count": null,
   "id": "5d1e215e-b06c-42dc-b030-6a78be477f53",
   "metadata": {
    "id": "5d1e215e-b06c-42dc-b030-6a78be477f53"
   },
   "outputs": [],
   "source": [
    "\n",
    "# You may want to the following code to test your results\n",
    "this_circ = quantum_add(a=1, b=0)\n",
    "state = Statevector(this_circ)\n",
    "# Note: Qiskit numbers the bits in a string from right to left.\n",
    "display(Latex(f'$|ba\\\\rangle \\\\to |(a+b)a\\\\rangle$'))\n",
    "display(Latex(f'Initial: $|ba\\\\rangle =|{b}{a}\\\\rangle$'))\n",
    "display(Latex(f'Final: $|(a+b)a\\\\rangle=$'))\n",
    "state.draw('latex', max_size=16)"
   ]
  },
  {
   "cell_type": "markdown",
   "id": "11a29461-4fb8-4b7e-859a-f3aa86220afb",
   "metadata": {
    "id": "11a29461-4fb8-4b7e-859a-f3aa86220afb"
   },
   "source": [
    "### 3.3 A glance into the well-knowns\n",
    "The most spectacular discovery in quantum computing to date is that quantum computers\n",
    "can efficiently perform some tasks which are not feasible on a classical computer.\n"
   ]
  },
  {
   "cell_type": "markdown",
   "id": "e2b02743-730d-4a02-a490-a0549474beed",
   "metadata": {
    "id": "e2b02743-730d-4a02-a490-a0549474beed"
   },
   "source": [
    "<img src=\"images/Algorithm_Niels_Chua_4.1.png\" width=\"600\">\n",
    "Figure adapted from Nielsen, M. A., & Chuang, I. L. (2010); Quantum Computation and Quantum Information: 10th Anniversary Edition; Cambridge: Cambridge University Press."
   ]
  },
  {
   "cell_type": "markdown",
   "id": "aad9824d-d1cb-42dd-a283-fdc6efc818dd",
   "metadata": {
    "id": "aad9824d-d1cb-42dd-a283-fdc6efc818dd"
   },
   "source": [
    "#### 3.3.1 Quantum Fourier Transform"
   ]
  },
  {
   "cell_type": "markdown",
   "id": "cb81568d-5a65-4a92-a43f-3afc1d10c7f2",
   "metadata": {
    "id": "cb81568d-5a65-4a92-a43f-3afc1d10c7f2"
   },
   "source": [
    "##### Definition and notation\n"
   ]
  },
  {
   "cell_type": "markdown",
   "id": "8ed2f4cd-4681-4d3f-88c1-0734bb430a5e",
   "metadata": {
    "id": "8ed2f4cd-4681-4d3f-88c1-0734bb430a5e"
   },
   "source": [
    "In quantum computing, the **quantum Fourier transform (QFT)** is a linear transformation on quantum bits, and is the quantum analogue of the **discrete Fourier transform (DFT)**."
   ]
  },
  {
   "cell_type": "markdown",
   "id": "6a7221f7-fe85-4900-9d47-fc8d455f61e8",
   "metadata": {
    "id": "6a7221f7-fe85-4900-9d47-fc8d455f61e8"
   },
   "source": [
    "The DFT takes as input a vector of complex numbers, $ x_0, \\dots, x_{N-1} $ where $ N $ is the length of the vector. It outputs the transformed data, a vector of complex numbers $y_0, \\dots, y_{N-1} $, defined by\n",
    "\n",
    "$$\n",
    "\\text{DFT}: y_k \\equiv \\frac{1}{\\sqrt{N}} \\sum_{j=0}^{N-1} x_j e^{2\\pi ijk/N}.\n",
    "$$\n",
    "\n",
    "$$\n",
    "\\text{inverse DFT}: x_j = \\frac{1}{\\sqrt{N}} \\sum_{k=0}^{N-1} y_k e^{-2\\pi ijk/N}.\n",
    "$$\n"
   ]
  },
  {
   "cell_type": "markdown",
   "id": "671e6037-ba7b-4fcd-a28b-db0626b942ba",
   "metadata": {
    "id": "671e6037-ba7b-4fcd-a28b-db0626b942ba"
   },
   "source": [
    "The QFT takes as input an amplitude $\\{x_j\\} (j=0,1,2,\\dots,N-1)$ on an orthonormal basis $|j\\rangle$, and transforms it to the amplitudes $\\{y_k\\} (k=0,1,2,\\dots,N-1)$ on an orthonormal basis $|k\\rangle$, with the following action on the basis states,\n",
    "\n",
    "$$\n",
    "\\text{QFT}: |j\\rangle \\ \\longrightarrow \\ \\frac{1}{\\sqrt{N}} \\sum_{k=0}^{N-1} e^{2\\pi ijk/N} |k\\rangle.  \n",
    "$$\n",
    "$$\n",
    "\\text{inverse QFT}: |k\\rangle \\ \\longrightarrow \\ \\frac{1}{\\sqrt{N}} \\sum_{j=0}^{N-1} e^{-2\\pi ijk/N} |j\\rangle.  \n",
    "$$\n",
    "\n",
    "Equivalently, the action on an arbitrary state may be written\n",
    "\n",
    "$$\n",
    "\\sum_{j=0}^{N-1} x_j |j\\rangle \\ \\longrightarrow \\ \\sum_{k=0}^{N-1} y_k |k\\rangle,\n",
    "$$\n",
    "\n",
    "This transformation is a unitary transformation, and thus can be implemented as the dynamics for a quantum computer.\n",
    "\n",
    "\n"
   ]
  },
  {
   "cell_type": "markdown",
   "id": "b691c27b-e671-4eb3-907d-9c55aea7d893",
   "metadata": {
    "id": "b691c27b-e671-4eb3-907d-9c55aea7d893"
   },
   "source": [
    "Let us take $N = 2^n$, where $n$ is some integer, and the basis $|0\\rangle, \\dots, |2^n - 1\\rangle$ is the computational basis for an $n$-qubit quantum computer. It is helpful to write the state $|j\\rangle$ using the binary representation $j = j_1 j_2 \\dots j_n$. More formally,  \n",
    "\n",
    "$$\n",
    "j = j_1 2^{n-1} + j_2 2^{n-2} + \\dots + j_n 2^0.\n",
    "$$  \n",
    "\n",
    "It is also convenient to adopt the notation $0.j_l j_{l+1} \\dots j_m$ to represent the *binary fraction*  \n",
    "\n",
    "$$\n",
    "j_l/2 + j_{l+1}/4 + \\dots + j_m/2^{m-l+1}.\n",
    "$$  \n",
    "\n",
    "With these notations, we can write QFT in the *product representation*:  \n",
    "\n",
    "$$\n",
    "|j_1, \\dots, j_n\\rangle \\ \\longrightarrow \\ \\frac{ \\left( |0\\rangle + e^{2\\pi i 0.j_n} |1\\rangle \\right) \\left( |0\\rangle + e^{2\\pi i 0.j_{n-1} j_n} |1\\rangle \\right) \\dots \\left( |0\\rangle + e^{2\\pi i 0.j_1 j_2 \\dots j_n} |1\\rangle \\right) }{2^{n/2}}.\n",
    "$$\n"
   ]
  },
  {
   "cell_type": "markdown",
   "id": "2747fc0d-fd70-46ed-b66d-9c5457570b0f",
   "metadata": {
    "id": "2747fc0d-fd70-46ed-b66d-9c5457570b0f"
   },
   "source": [
    "##### Circuit implementation"
   ]
  },
  {
   "cell_type": "markdown",
   "id": "b1c4fccd-5969-4f3c-9b5c-29cd8d472603",
   "metadata": {
    "id": "b1c4fccd-5969-4f3c-9b5c-29cd8d472603"
   },
   "source": [
    "The quantum gates used in the n-qubit circuit are the Hadamard gate and the dyadic rational phase gate $R_k$,\n",
    "\n",
    "$R_k = \\begin{pmatrix}\n",
    "1 & 0 \\\\\n",
    "0 & e^{2\\pi i/2^k} \\\\\n",
    "\\end{pmatrix}$"
   ]
  },
  {
   "cell_type": "markdown",
   "id": "d7a9382b-c5c8-445d-b6ae-fd6d8bd67176",
   "metadata": {
    "id": "d7a9382b-c5c8-445d-b6ae-fd6d8bd67176"
   },
   "source": [
    "The following is an efficient circuit for the QFT:\n",
    "<img src=\"images/QFT_circuit.png\" width=\"1000\">\n",
    "Figure adapted from Nielsen, M. A., & Chuang, I. L. (2010); Quantum Computation and Quantum Information: 10th Anniversary Edition; Cambridge: Cambridge University Press."
   ]
  },
  {
   "cell_type": "markdown",
   "id": "fe89c181-c767-4334-ad67-3bae33d29641",
   "metadata": {
    "id": "fe89c181-c767-4334-ad67-3bae33d29641"
   },
   "source": [
    "This circuit provides a $\\mathcal O(n^2)$ algorithm for performing the QFT. In contrast, the best classical algorithms for computing the DFT on $2^n$ elements are algorithms such as the Fast Fourier Transform (FFT), which uses $\\mathcal O(n 2^n)$ gates."
   ]
  },
  {
   "cell_type": "markdown",
   "id": "2cb73986-e4e0-4884-a1d7-d0692c81c3a8",
   "metadata": {
    "id": "2cb73986-e4e0-4884-a1d7-d0692c81c3a8"
   },
   "source": [
    "*QFT is an efficient quantum algorithm for performing a Fourier transform of quantum mechanical amplitudes. Note that, however, it does not speed up the classical task of computing Fourier transforms of classical data."
   ]
  },
  {
   "cell_type": "markdown",
   "id": "2541c91e-93e4-44d6-b447-56e42b24c593",
   "metadata": {
    "id": "2541c91e-93e4-44d6-b447-56e42b24c593"
   },
   "source": [
    "<div class=\"alert alert-block alert-success\">\n",
    "\n",
    "**Q3.3.1 Single-qubit QFT**\n",
    "\n",
    "What is the operation of the Quantum Fourier Transform for a single qubit?\n",
    "Hint: check the aforementioned definition of QFT, and apply $n=1$, $N=2^n=1$ to it.\n",
    "</div>"
   ]
  },
  {
   "cell_type": "markdown",
   "id": "40fe964c-d1ff-47e2-a0c9-b622a69426a6",
   "metadata": {
    "id": "40fe964c-d1ff-47e2-a0c9-b622a69426a6"
   },
   "source": [
    "Let us use the QFT library in qiskit to implement the QFT and its inverse.\n",
    "\n",
    "class qiskit.circuit.library.QFT(num_qubits=None, approximation_degree=0, do_swaps=True, inverse=False, insert_barriers=False, name=None)\n",
    "\n",
    "Parameters:\n",
    "\n",
    "- **num_qubits** (int | None) – The number of qubits on which the QFT acts.\n",
    "- approximation_degree (int) – The degree of approximation (0 for no approximation).\n",
    "- **do_swaps** (bool) – Whether to include the final swaps in the QFT.\n",
    "- **inverse** (bool) – If True, the inverse Fourier transform is constructed.\n",
    "- insert_barriers (bool) – If True, barriers are inserted as visualization improvement.\n",
    "- name (str | None) – The name of the circuit.\n"
   ]
  },
  {
   "cell_type": "code",
   "execution_count": null,
   "id": "97c2e74e-3ada-42a5-a276-8c259a1f2cc0",
   "metadata": {
    "id": "97c2e74e-3ada-42a5-a276-8c259a1f2cc0"
   },
   "outputs": [],
   "source": [
    "n = 3\n",
    "\n",
    "iqft_circ = QFT(n, do_swaps=True, inverse=False)\n",
    "\n",
    "qc_iqft = QuantumCircuit(n)\n",
    "\n",
    "qc_iqft.append(iqft_circ, qc_iqft.qubits)\n",
    "qc_iqft.draw('mpl')"
   ]
  },
  {
   "cell_type": "code",
   "execution_count": null,
   "id": "4ce3d30d-4151-4b13-b76b-8d332dbd94c5",
   "metadata": {
    "id": "4ce3d30d-4151-4b13-b76b-8d332dbd94c5"
   },
   "outputs": [],
   "source": [
    "# Let's see the result\n",
    "state = Statevector(qc_iqft)\n",
    "\n",
    "# Note: Qiskit numbers the bits in a string from right to left.\n",
    "state.draw('latex', max_size=16)"
   ]
  },
  {
   "cell_type": "markdown",
   "id": "5b523518-786e-499a-bfeb-073e9d067bc8",
   "metadata": {
    "id": "5b523518-786e-499a-bfeb-073e9d067bc8"
   },
   "source": [
    "Is this what you would expect? Think about the FT of the Dirac delta function."
   ]
  },
  {
   "cell_type": "markdown",
   "id": "13c2f84d-9691-4bee-90aa-203568661b14",
   "metadata": {
    "id": "13c2f84d-9691-4bee-90aa-203568661b14"
   },
   "source": [
    "<div class=\"alert alert-block alert-success\">\n",
    "\n",
    "**Q3.3.2 QFT and its inverse**\n",
    "\n",
    "1. Create a quantum circuit with 4 qubits and prepare an initial state $\\frac{1}{\\sqrt{2}}(|0000\\rangle+|0001\\rangle)$ on it.\n",
    "2. Apply QFT on it, check the outgoing state using statevector.\n",
    "3. Apply inverse QFT on the circuit, and check the final state.\n",
    "</div>"
   ]
  },
  {
   "cell_type": "code",
   "execution_count": null,
   "id": "0f4f1215-29ef-49a5-ab6f-8b8ec39d4e90",
   "metadata": {
    "id": "0f4f1215-29ef-49a5-ab6f-8b8ec39d4e90"
   },
   "outputs": [],
   "source": [
    "# step 1, initialize the state\n",
    "qc_QFT = QuantumCircuit(4)\n",
    "\n",
    "##### ==================================\n",
    "# Write your solution in here.\n",
    "\n",
    "\n",
    "##### ==================================\n",
    "\n",
    "display(qc_QFT.draw('mpl'))\n",
    "\n",
    "# Let's check the initial state\n",
    "state = Statevector(qc_QFT)\n",
    "state.draw('latex', max_size=16)"
   ]
  },
  {
   "cell_type": "code",
   "execution_count": null,
   "id": "7a566d62-53f3-4f72-8a28-0a36dc0f6163",
   "metadata": {
    "id": "7a566d62-53f3-4f72-8a28-0a36dc0f6163"
   },
   "outputs": [],
   "source": [
    "# step 2, apply QFT\n",
    "\n",
    "##### ==================================\n",
    "# Write your solution in here.\n",
    "\n",
    "\n",
    "##### ==================================\n",
    "\n",
    "display(qc_QFT.draw('mpl'))\n",
    "\n",
    "# Let's check the initial state\n",
    "state = Statevector(qc_QFT)\n",
    "state.draw('latex', max_size=16)"
   ]
  },
  {
   "cell_type": "code",
   "execution_count": null,
   "id": "76d84c65-a9b3-4a1f-a459-6873bccc0ce4",
   "metadata": {
    "id": "76d84c65-a9b3-4a1f-a459-6873bccc0ce4"
   },
   "outputs": [],
   "source": [
    "# step 3, apply inverse QFT\n",
    "\n",
    "##### ==================================\n",
    "# Write your solution in here.\n",
    "\n",
    "\n",
    "##### ==================================\n",
    "\n",
    "display(qc_QFT.draw('mpl'))\n",
    "\n",
    "# Let's check the initial state\n",
    "state = Statevector(qc_QFT)\n",
    "state.draw('latex', max_size=16)"
   ]
  },
  {
   "cell_type": "markdown",
   "id": "d72916db-a547-478c-91bf-370794196f0c",
   "metadata": {
    "id": "d72916db-a547-478c-91bf-370794196f0c"
   },
   "source": [
    "#### 3.3.2 Grover's quantum search algorithm\n",
    "[We will learn more in \"Lecture 2. Search Algorithms: Grover\" with Juan Santos Suárez]"
   ]
  },
  {
   "cell_type": "markdown",
   "id": "a2fb2d07-e792-47c0-860d-c17f6471295e",
   "metadata": {
    "id": "a2fb2d07-e792-47c0-860d-c17f6471295e",
    "tags": []
   },
   "source": [
    "##### Problem description\n",
    "As input for Grover's algorithm, suppose we have a function $f:\\{0,1,...,N-1\\}\\rightarrow\\{0,1\\}$. In the \"unstructured database\" analogy, the domain represents indices to a database, and $f(x)=1$ if and only if the data that $x$ points to satisfies the search criterion. We additionally assume that only one index satisfies $f(x)=1$ and we call this index $\\omega$. Our goal is to identify $\\omega$.\n",
    "\n",
    "We can access $f$ with a subroutine (sometimes called an *oracle*) in the form of a unitary operator $U_{\\omega}$ that acts as follows:\n",
    "\n",
    "$$\n",
    "\\begin{cases}\n",
    "U_{\\omega}|x\\rangle = -|x\\rangle & \\text{for } x = \\omega, \\text{ that is, } f(x) = 1, \\\\\n",
    "U_{\\omega}|x\\rangle = |x\\rangle & \\text{for } x \\ne \\omega, \\text{ that is, } f(x) = 0.\n",
    "\\end{cases}\n",
    "$$\n",
    "\n",
    "This uses the $N$-dimensional state space $\\mathcal{H}$, which is supplied by a register with $n = \\lceil \\log_2 N \\rceil$ qubits. This is often written as\n",
    "\n",
    "$$\n",
    "U_{\\omega}|x\\rangle = (-1)^{f(x)}|x\\rangle.\n",
    "$$\n",
    "\n",
    "<!-- Grover's algorithm outputs $\\omega$ with probability at least 1/2 using $O(\\sqrt{N})$ applications of $U_{\\omega}$. This probability can be made arbitrarily large by running Grover's algorithm multiple times. If one runs Grover's algorithm until $\\omega$ is found, the expected number of applications is still $O(\\sqrt{N})$ since it will only be run twice on average. -->"
   ]
  },
  {
   "cell_type": "markdown",
   "id": "4911ab57-db31-401d-a9fe-0388acb93905",
   "metadata": {
    "id": "4911ab57-db31-401d-a9fe-0388acb93905"
   },
   "source": [
    "##### Circuit implementation"
   ]
  },
  {
   "cell_type": "markdown",
   "id": "057192b7-425c-4267-953b-5440c0165f0e",
   "metadata": {
    "id": "057192b7-425c-4267-953b-5440c0165f0e"
   },
   "source": [
    "The following is a schematic circuit for the quantum search algorithm:\n",
    "<img src=\"images/Grover1.png\" width=\"1000\">\n",
    "in which Grover iteration, G, is\n",
    "<img src=\"images/Grover2.png\" width=\"600\">\n",
    "\n",
    "Figure adapted from Nielsen, M. A., & Chuang, I. L. (2010); Quantum Computation and Quantum Information: 10th Anniversary Edition; Cambridge: Cambridge University Press."
   ]
  },
  {
   "cell_type": "markdown",
   "id": "c5af5767-53f8-4189-b5bd-1cdc43acc91d",
   "metadata": {
    "id": "c5af5767-53f8-4189-b5bd-1cdc43acc91d"
   },
   "source": [
    "The output will be $|\\omega\\rangle$ with probability approaching 1 for $N\\gg1$."
   ]
  },
  {
   "cell_type": "markdown",
   "id": "e5c506de-e9fd-4240-9fe8-6bb25f8d0859",
   "metadata": {
    "id": "e5c506de-e9fd-4240-9fe8-6bb25f8d0859"
   },
   "source": [
    "This algorithm takes $\\mathcal O(\\sqrt{N})$ operations, whereas theclassical algorithms need to take $\\mathcal O(N)$ operations."
   ]
  },
  {
   "cell_type": "code",
   "execution_count": null,
   "id": "fde111b2-c822-4aa1-9899-a29c17e38d05",
   "metadata": {
    "id": "fde111b2-c822-4aa1-9899-a29c17e38d05"
   },
   "outputs": [],
   "source": []
  }
 ],
 "metadata": {
  "colab": {
   "provenance": []
  },
  "kernelspec": {
   "display_name": "Python 3 (ipykernel)",
   "language": "python",
   "name": "python3"
  },
  "language_info": {
   "codemirror_mode": {
    "name": "ipython",
    "version": 3
   },
   "file_extension": ".py",
   "mimetype": "text/x-python",
   "name": "python",
   "nbconvert_exporter": "python",
   "pygments_lexer": "ipython3",
   "version": "3.11.5"
  }
 },
 "nbformat": 4,
 "nbformat_minor": 5
}
